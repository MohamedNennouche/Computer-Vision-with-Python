{
 "cells": [
  {
   "cell_type": "code",
   "execution_count": 1,
   "metadata": {},
   "outputs": [],
   "source": [
    "import pandas as pd\n",
    "import numpy as np\n",
    "import matplotlib.pyplot as plt\n",
    "import seaborn as sns\n",
    "sns.set_theme(style=\"darkgrid\")"
   ]
  },
  {
   "attachments": {},
   "cell_type": "markdown",
   "metadata": {},
   "source": [
    "# Contexte"
   ]
  },
  {
   "attachments": {},
   "cell_type": "markdown",
   "metadata": {},
   "source": [
    "Ce projet abordera ce qu'on a vu en analyse et visualisation des données (et partira aussi un peu plus loin). Nous aborderons donc dans ce projet le dataset [Netflix Top Rated Movies and TV Shows](https://www.kaggle.com/datasets/thedevastator/netflix-top-rated-movies-and-tv-shows-2020-2022?select=Best+Movie+by+Year+Netflix.csv) Dataset, un dataset qui regroupe les meilleurs films et séries (basé sur leurs notes sur IMDb) avec les crédits pour chaque films. \n",
    "\n",
    "Téléchargez les fichiers sur votre PC et commençons ce projet !"
   ]
  },
  {
   "attachments": {},
   "cell_type": "markdown",
   "metadata": {},
   "source": [
    "## Charger les données"
   ]
  },
  {
   "attachments": {},
   "cell_type": "markdown",
   "metadata": {},
   "source": [
    "TIPS : Créer une variable par fichier et chargez les fichiers CSV (nommez convenablement les variables)"
   ]
  },
  {
   "cell_type": "code",
   "execution_count": null,
   "metadata": {},
   "outputs": [],
   "source": []
  },
  {
   "attachments": {},
   "cell_type": "markdown",
   "metadata": {},
   "source": [
    "## 1. Best movies by Year"
   ]
  },
  {
   "attachments": {},
   "cell_type": "markdown",
   "metadata": {},
   "source": [
    "### Questions"
   ]
  },
  {
   "attachments": {},
   "cell_type": "markdown",
   "metadata": {},
   "source": [
    "On va commencer notre étude en analysant ce fichier. Il regroupe le meilleur film par année de sortie et donc il laisse les meilleurs films sur la plateforme. \n",
    "\n",
    "Répondez via des graphiques avec Matplotlib ou Seaborn ou bien des analyses avec Pandas aux questions suivantes : \n",
    "- Quel est le genre de film le plus présent ?\n",
    "- Quel est la répartition des genres dans la liste des films ?\n",
    "- Quel est le meilleur et le pire film en terme de note ?\n",
    "- Quelle est la note moyenne donnée ?\n",
    "- Quelle est la distribution des notes des films ?\n",
    "\n",
    "QUESTIONS BONUS : \n",
    "- Quelle est la durée moyenne des films de la liste ?\n",
    "- Quel est le réalisateur qui revient le plus dans la liste ?\n",
    "- Quel est l'acteur qui revient le plus dans la liste ?"
   ]
  },
  {
   "attachments": {},
   "cell_type": "markdown",
   "metadata": {},
   "source": [
    "### Réponses"
   ]
  },
  {
   "cell_type": "code",
   "execution_count": null,
   "metadata": {},
   "outputs": [],
   "source": []
  },
  {
   "attachments": {},
   "cell_type": "markdown",
   "metadata": {},
   "source": [
    "## 2. Best show by year"
   ]
  },
  {
   "attachments": {},
   "cell_type": "markdown",
   "metadata": {},
   "source": [
    "### Questions"
   ]
  },
  {
   "attachments": {},
   "cell_type": "markdown",
   "metadata": {},
   "source": [
    "Maintenant on passe aux meilleures séries par année de sortie disponible sur la plateforme. \n",
    "\n",
    "Répondez via des graphiques avec Matplotlib ou Seaborn ou bien des analyses avec Pandas aux questions suivantes :\n",
    "- Quel est le genre de série le plus présent ?\n",
    "- Quel est la répartition des genres dans la liste des séries ?\n",
    "- Quel est la meilleure et la pire série en terme de note ?\n",
    "- Quelle est la note moyenne donnée ?\n",
    "- Quelle est la distribution des notes des séries ?\n",
    "- Quelle est le nombre moyen de saisons dans la liste ?\n",
    "- Mettez en place une répartition entre la note donnée et le nombre de saisons qu'on a\n",
    "\n",
    "QUESTIONS BONUS : \n",
    "- Quel est le réalisateur qui revient le plus dans la liste ?\n",
    "- Quel est l'acteur qui revient le plus dans la liste ?"
   ]
  },
  {
   "attachments": {},
   "cell_type": "markdown",
   "metadata": {},
   "source": [
    "### Réponses"
   ]
  },
  {
   "cell_type": "code",
   "execution_count": null,
   "metadata": {},
   "outputs": [],
   "source": []
  },
  {
   "attachments": {},
   "cell_type": "markdown",
   "metadata": {},
   "source": [
    "## 3. Best movies"
   ]
  },
  {
   "attachments": {},
   "cell_type": "markdown",
   "metadata": {},
   "source": [
    "### Questions"
   ]
  },
  {
   "attachments": {},
   "cell_type": "markdown",
   "metadata": {},
   "source": [
    "Maintenant on va passer à l'analyse de tous les films qui ont eu, au moins, une note de 7.5 sur IMDb.\n",
    "\n",
    "Répondez via des graphiques avec Matplotlib ou Seaborn ou bien des analyses avec Pandas aux questions suivantes :\n",
    "- Quelle est l'année qui est la plus présente ? Et donnez une distribution (ou répartition) en nombre d'apparition\n",
    "- Quel est le genre qui revient le plus souvent ? Et donnez une distribution (ou répartition) en nombre d'apparition\n",
    "- Quelle est la production la plus recurente ?\n",
    "- Quelle est la durée moyenne d'un film dans la liste ?\n",
    "- Quel est le film le plus long et le plus court de la liste ?\n",
    "- Affichez une distribution regroupant les notes données, le nombre de votes et le genre du film. A priori quel est le meilleur genre de film ?\n",
    "- Quelle est la variable la plus corrélée avec la note donnée ?  \n",
    "- Quel est l'acteur (ou l'actrice) qui revient le plus souvent dans les crédits ?\n",
    "- Quel est le réalisateur (ou réalisatrice) qui revient le plus souvent dans les crédits ?\n",
    "\n",
    "QUESTIONS BONUS : \n",
    "- Quel est l'acteur avec les films avec la note moyenne la plus haute ? \n",
    "- Quel est le réalisateur avec les films avec la note moyenne la plus haute ?"
   ]
  },
  {
   "attachments": {},
   "cell_type": "markdown",
   "metadata": {},
   "source": [
    "### Réponses"
   ]
  },
  {
   "cell_type": "code",
   "execution_count": null,
   "metadata": {},
   "outputs": [],
   "source": []
  },
  {
   "attachments": {},
   "cell_type": "markdown",
   "metadata": {},
   "source": [
    "## 4. Best shows"
   ]
  },
  {
   "attachments": {},
   "cell_type": "markdown",
   "metadata": {},
   "source": [
    "### Questions"
   ]
  },
  {
   "attachments": {},
   "cell_type": "markdown",
   "metadata": {},
   "source": [
    "Maintenant on va passer à l'analyse de toutes les séries qui ont eu, au moins, une note de 7.5 sur IMDb.\n",
    "\n",
    "Répondez via des graphiques avec Matplotlib ou Seaborn ou bien des analyses avec Pandas aux questions suivantes :\n",
    "- Quelle est l'année qui est la plus présente ? Et donnez une distribution (ou répartition) en nombre d'apparition\n",
    "- Quel est le genre qui revient le plus souvent ? Et donnez une distribution (ou répartition) en nombre d'apparition\n",
    "- Quelle est la production la plus recurente ?\n",
    "- Quelle est la durée moyenne d'un épisode de la série dans la liste ?\n",
    "- Quelle est la série avec le plus de saisons (ou les séries) ?\n",
    "- Affichez une distribution regroupant les notes données, le nombre de votes et le genre de la série. A priori quel est le meilleur genre de série ?\n",
    "- Quelle est la variable la plus corrélée avec la note donnée ?  \n",
    "- Quel est l'acteur (ou l'actrice) qui revient le plus souvent dans les crédits ?\n",
    "- Quel est le réalisateur (ou réalisatrice) qui revient le plus souvent dans les crédits ?\n",
    "\n",
    "QUESTIONS BONUS : \n",
    "- Quel est l'acteur avec les films avec la note moyenne la plus haute ? \n",
    "- Quel est le réalisateur avec les films avec la note moyenne la plus haute ?"
   ]
  },
  {
   "attachments": {},
   "cell_type": "markdown",
   "metadata": {},
   "source": [
    "### Réponses"
   ]
  },
  {
   "cell_type": "code",
   "execution_count": null,
   "metadata": {},
   "outputs": [],
   "source": []
  }
 ],
 "metadata": {
  "kernelspec": {
   "display_name": "base",
   "language": "python",
   "name": "python3"
  },
  "language_info": {
   "codemirror_mode": {
    "name": "ipython",
    "version": 3
   },
   "file_extension": ".py",
   "mimetype": "text/x-python",
   "name": "python",
   "nbconvert_exporter": "python",
   "pygments_lexer": "ipython3",
   "version": "3.8.13"
  },
  "orig_nbformat": 4,
  "vscode": {
   "interpreter": {
    "hash": "631af202ec7c40e141c49d63cac6c8cb664469fed6e4d5ddc6436b49edc60500"
   }
  }
 },
 "nbformat": 4,
 "nbformat_minor": 2
}
