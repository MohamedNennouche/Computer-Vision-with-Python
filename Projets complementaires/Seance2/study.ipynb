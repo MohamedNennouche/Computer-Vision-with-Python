{
 "cells": [
  {
   "cell_type": "code",
   "execution_count": 1,
   "metadata": {},
   "outputs": [],
   "source": [
    "import pandas as pd\n",
    "import numpy as np\n",
    "import matplotlib.pyplot as plt\n",
    "import seaborn as sns\n",
    "sns.set_theme(style=\"darkgrid\")"
   ]
  },
  {
   "attachments": {},
   "cell_type": "markdown",
   "metadata": {},
   "source": [
    "# Contexte"
   ]
  },
  {
   "attachments": {},
   "cell_type": "markdown",
   "metadata": {},
   "source": [
    "Ce projet abordera ce qu'on a vu en analyse et visualisation des données (et partira aussi un peu plus loin). Nous aborderons donc dans ce projet le dataset [Netflix Top Rated Movies and TV Shows](https://www.kaggle.com/datasets/thedevastator/netflix-top-rated-movies-and-tv-shows-2020-2022?select=Best+Movie+by+Year+Netflix.csv) Dataset, un dataset qui regroupe les meilleurs films et séries (basé sur leurs notes sur IMDb) avec les crédits pour chaque films. \n",
    "\n",
    "Téléchargez les fichiers sur votre PC et commençons ce projet !"
   ]
  },
  {
   "attachments": {},
   "cell_type": "markdown",
   "metadata": {},
   "source": [
    "## Charger les données"
   ]
  },
  {
   "attachments": {},
   "cell_type": "markdown",
   "metadata": {},
   "source": [
    "TIPS : Créer une variable par fichier et chargez les fichiers CSV (nommez convenablement les variables)"
   ]
  },
  {
   "cell_type": "code",
   "execution_count": 16,
   "metadata": {},
   "outputs": [],
   "source": [
    "movies_year = pd.read_csv(\"./Fichiers/Best Movie by Year Netflix.csv\", index_col='index')\n",
    "shows_year = pd.read_csv(\"./Fichiers/Best Show by Year Netflix.csv\", index_col='index')\n",
    "movies_total = pd.read_csv(\"./Fichiers/Best Movies Netflix.csv\", index_col='index')\n",
    "shows_total = pd.read_csv(\"./Fichiers/Best Shows Netflix.csv\", index_col='index')\n",
    "credits = pd.read_csv(\"./Fichiers/raw_credits.csv\", index_col='index')\n",
    "titles = pd.read_csv(\"./Fichiers/raw_titles.csv\", index_col='index')"
   ]
  },
  {
   "attachments": {},
   "cell_type": "markdown",
   "metadata": {},
   "source": [
    "On visualise rapidement l'un d'eux pour voir sa structure"
   ]
  },
  {
   "cell_type": "code",
   "execution_count": 17,
   "metadata": {},
   "outputs": [
    {
     "data": {
      "text/html": [
       "<div>\n",
       "<style scoped>\n",
       "    .dataframe tbody tr th:only-of-type {\n",
       "        vertical-align: middle;\n",
       "    }\n",
       "\n",
       "    .dataframe tbody tr th {\n",
       "        vertical-align: top;\n",
       "    }\n",
       "\n",
       "    .dataframe thead th {\n",
       "        text-align: right;\n",
       "    }\n",
       "</style>\n",
       "<table border=\"1\" class=\"dataframe\">\n",
       "  <thead>\n",
       "    <tr style=\"text-align: right;\">\n",
       "      <th></th>\n",
       "      <th>TITLE</th>\n",
       "      <th>RELEASE_YEAR</th>\n",
       "      <th>SCORE</th>\n",
       "      <th>NUMBER_OF_VOTES</th>\n",
       "      <th>DURATION</th>\n",
       "      <th>MAIN_GENRE</th>\n",
       "      <th>MAIN_PRODUCTION</th>\n",
       "    </tr>\n",
       "    <tr>\n",
       "      <th>index</th>\n",
       "      <th></th>\n",
       "      <th></th>\n",
       "      <th></th>\n",
       "      <th></th>\n",
       "      <th></th>\n",
       "      <th></th>\n",
       "      <th></th>\n",
       "    </tr>\n",
       "  </thead>\n",
       "  <tbody>\n",
       "    <tr>\n",
       "      <th>0</th>\n",
       "      <td>David Attenborough: A Life on Our Planet</td>\n",
       "      <td>2020</td>\n",
       "      <td>9.0</td>\n",
       "      <td>31180</td>\n",
       "      <td>83</td>\n",
       "      <td>documentary</td>\n",
       "      <td>GB</td>\n",
       "    </tr>\n",
       "    <tr>\n",
       "      <th>1</th>\n",
       "      <td>Inception</td>\n",
       "      <td>2010</td>\n",
       "      <td>8.8</td>\n",
       "      <td>2268288</td>\n",
       "      <td>148</td>\n",
       "      <td>scifi</td>\n",
       "      <td>GB</td>\n",
       "    </tr>\n",
       "    <tr>\n",
       "      <th>2</th>\n",
       "      <td>Forrest Gump</td>\n",
       "      <td>1994</td>\n",
       "      <td>8.8</td>\n",
       "      <td>1994599</td>\n",
       "      <td>142</td>\n",
       "      <td>drama</td>\n",
       "      <td>US</td>\n",
       "    </tr>\n",
       "    <tr>\n",
       "      <th>3</th>\n",
       "      <td>Anbe Sivam</td>\n",
       "      <td>2003</td>\n",
       "      <td>8.7</td>\n",
       "      <td>20595</td>\n",
       "      <td>160</td>\n",
       "      <td>comedy</td>\n",
       "      <td>IN</td>\n",
       "    </tr>\n",
       "    <tr>\n",
       "      <th>4</th>\n",
       "      <td>Bo Burnham: Inside</td>\n",
       "      <td>2021</td>\n",
       "      <td>8.7</td>\n",
       "      <td>44074</td>\n",
       "      <td>87</td>\n",
       "      <td>comedy</td>\n",
       "      <td>US</td>\n",
       "    </tr>\n",
       "  </tbody>\n",
       "</table>\n",
       "</div>"
      ],
      "text/plain": [
       "                                          TITLE  RELEASE_YEAR  SCORE  \\\n",
       "index                                                                  \n",
       "0      David Attenborough: A Life on Our Planet          2020    9.0   \n",
       "1                                     Inception          2010    8.8   \n",
       "2                                  Forrest Gump          1994    8.8   \n",
       "3                                    Anbe Sivam          2003    8.7   \n",
       "4                            Bo Burnham: Inside          2021    8.7   \n",
       "\n",
       "       NUMBER_OF_VOTES  DURATION   MAIN_GENRE MAIN_PRODUCTION  \n",
       "index                                                          \n",
       "0                31180        83  documentary              GB  \n",
       "1              2268288       148        scifi              GB  \n",
       "2              1994599       142        drama              US  \n",
       "3                20595       160       comedy              IN  \n",
       "4                44074        87       comedy              US  "
      ]
     },
     "execution_count": 17,
     "metadata": {},
     "output_type": "execute_result"
    }
   ],
   "source": [
    "movies_total.head()"
   ]
  },
  {
   "attachments": {},
   "cell_type": "markdown",
   "metadata": {},
   "source": [
    "## 1. Best movies by Year"
   ]
  },
  {
   "attachments": {},
   "cell_type": "markdown",
   "metadata": {},
   "source": [
    "### Questions"
   ]
  },
  {
   "attachments": {},
   "cell_type": "markdown",
   "metadata": {},
   "source": [
    "On va commencer notre étude en analysant ce fichier. Il regroupe le meilleur film par année de sortie et donc il laisse les meilleurs films sur la plateforme. \n",
    "\n",
    "Répondez via des graphiques avec Matplotlib ou Seaborn ou bien des analyses avec Pandas aux questions suivantes : \n",
    "- Quel est le genre de film le plus présent ?\n",
    "- Quel est la répartition des genres dans la liste des films ?\n",
    "- Quel est le meilleur et le pire film en terme de note ?\n",
    "- Quelle est la note moyenne donnée ?\n",
    "- Quelle est la distribution des notes des films ?\n",
    "\n",
    "QUESTIONS BONUS : \n",
    "- Quelle est la durée moyenne des films de la liste ?\n",
    "- Quel est le réalisateur qui revient le plus dans la liste ?\n",
    "- Quel est l'acteur qui revient le plus dans la liste ?"
   ]
  },
  {
   "attachments": {},
   "cell_type": "markdown",
   "metadata": {},
   "source": [
    "### Réponses"
   ]
  },
  {
   "attachments": {},
   "cell_type": "markdown",
   "metadata": {},
   "source": [
    "On commence en prenant le fichier et on le visualise pour connaitre les colonnes qu'on a "
   ]
  },
  {
   "cell_type": "code",
   "execution_count": 18,
   "metadata": {},
   "outputs": [
    {
     "data": {
      "text/html": [
       "<div>\n",
       "<style scoped>\n",
       "    .dataframe tbody tr th:only-of-type {\n",
       "        vertical-align: middle;\n",
       "    }\n",
       "\n",
       "    .dataframe tbody tr th {\n",
       "        vertical-align: top;\n",
       "    }\n",
       "\n",
       "    .dataframe thead th {\n",
       "        text-align: right;\n",
       "    }\n",
       "</style>\n",
       "<table border=\"1\" class=\"dataframe\">\n",
       "  <thead>\n",
       "    <tr style=\"text-align: right;\">\n",
       "      <th></th>\n",
       "      <th>TITLE</th>\n",
       "      <th>RELEASE_YEAR</th>\n",
       "      <th>SCORE</th>\n",
       "      <th>MAIN_GENRE</th>\n",
       "      <th>MAIN_PRODUCTION</th>\n",
       "    </tr>\n",
       "    <tr>\n",
       "      <th>index</th>\n",
       "      <th></th>\n",
       "      <th></th>\n",
       "      <th></th>\n",
       "      <th></th>\n",
       "      <th></th>\n",
       "    </tr>\n",
       "  </thead>\n",
       "  <tbody>\n",
       "    <tr>\n",
       "      <th>0</th>\n",
       "      <td>White Christmas</td>\n",
       "      <td>1954</td>\n",
       "      <td>7.5</td>\n",
       "      <td>romance</td>\n",
       "      <td>US</td>\n",
       "    </tr>\n",
       "    <tr>\n",
       "      <th>1</th>\n",
       "      <td>The Guns of Navarone</td>\n",
       "      <td>1961</td>\n",
       "      <td>7.5</td>\n",
       "      <td>war</td>\n",
       "      <td>US</td>\n",
       "    </tr>\n",
       "    <tr>\n",
       "      <th>2</th>\n",
       "      <td>My Fair Lady</td>\n",
       "      <td>1964</td>\n",
       "      <td>7.8</td>\n",
       "      <td>drama</td>\n",
       "      <td>US</td>\n",
       "    </tr>\n",
       "    <tr>\n",
       "      <th>3</th>\n",
       "      <td>Bonnie and Clyde</td>\n",
       "      <td>1967</td>\n",
       "      <td>7.7</td>\n",
       "      <td>drama</td>\n",
       "      <td>US</td>\n",
       "    </tr>\n",
       "    <tr>\n",
       "      <th>4</th>\n",
       "      <td>Dirty Harry</td>\n",
       "      <td>1971</td>\n",
       "      <td>7.7</td>\n",
       "      <td>thriller</td>\n",
       "      <td>US</td>\n",
       "    </tr>\n",
       "  </tbody>\n",
       "</table>\n",
       "</div>"
      ],
      "text/plain": [
       "                      TITLE  RELEASE_YEAR  SCORE MAIN_GENRE MAIN_PRODUCTION\n",
       "index                                                                      \n",
       "0           White Christmas          1954    7.5    romance              US\n",
       "1      The Guns of Navarone          1961    7.5        war              US\n",
       "2              My Fair Lady          1964    7.8      drama              US\n",
       "3          Bonnie and Clyde          1967    7.7      drama              US\n",
       "4               Dirty Harry          1971    7.7   thriller              US"
      ]
     },
     "execution_count": 18,
     "metadata": {},
     "output_type": "execute_result"
    }
   ],
   "source": [
    "movies_year.head()"
   ]
  },
  {
   "attachments": {},
   "cell_type": "markdown",
   "metadata": {},
   "source": [
    "On peut voir les colonnes et leurs types comme suit"
   ]
  },
  {
   "cell_type": "code",
   "execution_count": 20,
   "metadata": {},
   "outputs": [
    {
     "name": "stdout",
     "output_type": "stream",
     "text": [
      "<class 'pandas.core.frame.DataFrame'>\n",
      "Int64Index: 49 entries, 0 to 48\n",
      "Data columns (total 5 columns):\n",
      " #   Column           Non-Null Count  Dtype  \n",
      "---  ------           --------------  -----  \n",
      " 0   TITLE            49 non-null     object \n",
      " 1   RELEASE_YEAR     49 non-null     int64  \n",
      " 2   SCORE            49 non-null     float64\n",
      " 3   MAIN_GENRE       49 non-null     object \n",
      " 4   MAIN_PRODUCTION  49 non-null     object \n",
      "dtypes: float64(1), int64(1), object(3)\n",
      "memory usage: 2.3+ KB\n"
     ]
    }
   ],
   "source": [
    "movies_year.info()"
   ]
  },
  {
   "attachments": {},
   "cell_type": "markdown",
   "metadata": {},
   "source": [
    "On peut voir qu'il nous manque aucune donnée, ce qui est très bien on peut commencer à répondre alors"
   ]
  },
  {
   "attachments": {},
   "cell_type": "markdown",
   "metadata": {},
   "source": [
    "1. Quel est le genre de film le plus présent ?"
   ]
  },
  {
   "cell_type": "code",
   "execution_count": 21,
   "metadata": {},
   "outputs": [
    {
     "data": {
      "text/plain": [
       "drama          22\n",
       "comedy          8\n",
       "thriller        5\n",
       "romance         3\n",
       "horror          2\n",
       "scifi           2\n",
       "crime           2\n",
       "war             1\n",
       "western         1\n",
       "fantasy         1\n",
       "documentary     1\n",
       "action          1\n",
       "Name: MAIN_GENRE, dtype: int64"
      ]
     },
     "execution_count": 21,
     "metadata": {},
     "output_type": "execute_result"
    }
   ],
   "source": [
    "movies_year[\"MAIN_GENRE\"].value_counts()"
   ]
  },
  {
   "attachments": {},
   "cell_type": "markdown",
   "metadata": {},
   "source": [
    "Donc on voit que les films drames sont les plus présents avec 22 films sur les 49. \n",
    "\n",
    "- On peut aussi voir une répartition :\n",
    "    - Avec Pandas"
   ]
  },
  {
   "cell_type": "code",
   "execution_count": 26,
   "metadata": {},
   "outputs": [
    {
     "data": {
      "text/plain": [
       "<AxesSubplot:title={'center':'Genre'}>"
      ]
     },
     "execution_count": 26,
     "metadata": {},
     "output_type": "execute_result"
    },
    {
     "data": {
      "image/png": "[encoded data removed]",
      "text/plain": [
       "<Figure size 576x432 with 1 Axes>"
      ]
     },
     "metadata": {},
     "output_type": "display_data"
    }
   ],
   "source": [
    "movies_year[\"MAIN_GENRE\"].value_counts().plot.pie(figsize=(8,6), title=\"Genre\", label='')"
   ]
  },
  {
   "attachments": {},
   "cell_type": "markdown",
   "metadata": {},
   "source": [
    "- Avec Matplotlib directement"
   ]
  },
  {
   "cell_type": "code",
   "execution_count": 30,
   "metadata": {},
   "outputs": [
    {
     "data": {
      "image/png": "[encoded data removed]",
      "text/plain": [
       "<Figure size 576x432 with 1 Axes>"
      ]
     },
     "metadata": {},
     "output_type": "display_data"
    }
   ],
   "source": [
    "plt.figure(figsize=(8,6))\n",
    "plt.pie(movies_year[\"MAIN_GENRE\"].value_counts(), labels=movies_year[\"MAIN_GENRE\"].value_counts().keys())\n",
    "plt.title(\"Genre\")\n",
    "plt.show()"
   ]
  },
  {
   "attachments": {},
   "cell_type": "markdown",
   "metadata": {},
   "source": [
    "- Le meilleur et le pire film de la liste (en terme de note)"
   ]
  },
  {
   "attachments": {},
   "cell_type": "markdown",
   "metadata": {},
   "source": [
    "On commence par trouver le max et le min"
   ]
  },
  {
   "cell_type": "code",
   "execution_count": 32,
   "metadata": {},
   "outputs": [
    {
     "data": {
      "text/html": [
       "<div>\n",
       "<style scoped>\n",
       "    .dataframe tbody tr th:only-of-type {\n",
       "        vertical-align: middle;\n",
       "    }\n",
       "\n",
       "    .dataframe tbody tr th {\n",
       "        vertical-align: top;\n",
       "    }\n",
       "\n",
       "    .dataframe thead th {\n",
       "        text-align: right;\n",
       "    }\n",
       "</style>\n",
       "<table border=\"1\" class=\"dataframe\">\n",
       "  <thead>\n",
       "    <tr style=\"text-align: right;\">\n",
       "      <th></th>\n",
       "      <th>count</th>\n",
       "      <th>mean</th>\n",
       "      <th>std</th>\n",
       "      <th>min</th>\n",
       "      <th>25%</th>\n",
       "      <th>50%</th>\n",
       "      <th>75%</th>\n",
       "      <th>max</th>\n",
       "    </tr>\n",
       "  </thead>\n",
       "  <tbody>\n",
       "    <tr>\n",
       "      <th>RELEASE_YEAR</th>\n",
       "      <td>49.0</td>\n",
       "      <td>1996.102041</td>\n",
       "      <td>17.335230</td>\n",
       "      <td>1954.0</td>\n",
       "      <td>1984.0</td>\n",
       "      <td>1998.0</td>\n",
       "      <td>2010.0</td>\n",
       "      <td>2022.0</td>\n",
       "    </tr>\n",
       "    <tr>\n",
       "      <th>SCORE</th>\n",
       "      <td>49.0</td>\n",
       "      <td>7.871429</td>\n",
       "      <td>0.632785</td>\n",
       "      <td>5.8</td>\n",
       "      <td>7.5</td>\n",
       "      <td>8.1</td>\n",
       "      <td>8.3</td>\n",
       "      <td>9.0</td>\n",
       "    </tr>\n",
       "  </tbody>\n",
       "</table>\n",
       "</div>"
      ],
      "text/plain": [
       "              count         mean        std     min     25%     50%     75%  \\\n",
       "RELEASE_YEAR   49.0  1996.102041  17.335230  1954.0  1984.0  1998.0  2010.0   \n",
       "SCORE          49.0     7.871429   0.632785     5.8     7.5     8.1     8.3   \n",
       "\n",
       "                 max  \n",
       "RELEASE_YEAR  2022.0  \n",
       "SCORE            9.0  "
      ]
     },
     "execution_count": 32,
     "metadata": {},
     "output_type": "execute_result"
    }
   ],
   "source": [
    "movies_year.describe().T"
   ]
  },
  {
   "attachments": {},
   "cell_type": "markdown",
   "metadata": {},
   "source": [
    "On peut donc voir le minimum est de 5.8 (ca doit être un très mauvais film) et la meilleure c'est un 9.0 (par contre celui la devrait être cool). On retrouve maintenant les index de chacun"
   ]
  },
  {
   "cell_type": "code",
   "execution_count": 36,
   "metadata": {},
   "outputs": [
    {
     "data": {
      "text/plain": [
       "46"
      ]
     },
     "execution_count": 36,
     "metadata": {},
     "output_type": "execute_result"
    }
   ],
   "source": [
    "movies_year[\"SCORE\"].idxmax(axis=0)"
   ]
  },
  {
   "cell_type": "code",
   "execution_count": 37,
   "metadata": {},
   "outputs": [
    {
     "data": {
      "text/plain": [
       "9"
      ]
     },
     "execution_count": 37,
     "metadata": {},
     "output_type": "execute_result"
    }
   ],
   "source": [
    "movies_year[\"SCORE\"].idxmin(axis=0)"
   ]
  },
  {
   "attachments": {},
   "cell_type": "markdown",
   "metadata": {},
   "source": [
    "Donc avec ca on peut très facilement retrouver la ligne correspondante"
   ]
  },
  {
   "cell_type": "code",
   "execution_count": 44,
   "metadata": {},
   "outputs": [
    {
     "name": "stdout",
     "output_type": "stream",
     "text": [
      "Le meilleur film est \"David Attenborough: A Life on Our Planet\" et le pire est \"The Blue Lagoon\"\n"
     ]
    }
   ],
   "source": [
    "max_note = movies_year.loc[movies_year[\"SCORE\"].idxmax(axis=0), 'TITLE']\n",
    "min_note = movies_year.loc[movies_year[\"SCORE\"].idxmin(axis=0), 'TITLE']\n",
    "\n",
    "print(f'Le meilleur film est \"{max_note}\" et le pire est \"{min_note}\"')"
   ]
  },
  {
   "attachments": {},
   "cell_type": "markdown",
   "metadata": {},
   "source": [
    "- Quelle est la note moyenne donnée ?\n",
    "\n",
    "Cette question on peut y répondre avec un bout de code précédemment utilisé"
   ]
  },
  {
   "cell_type": "code",
   "execution_count": 45,
   "metadata": {},
   "outputs": [
    {
     "data": {
      "text/html": [
       "<div>\n",
       "<style scoped>\n",
       "    .dataframe tbody tr th:only-of-type {\n",
       "        vertical-align: middle;\n",
       "    }\n",
       "\n",
       "    .dataframe tbody tr th {\n",
       "        vertical-align: top;\n",
       "    }\n",
       "\n",
       "    .dataframe thead th {\n",
       "        text-align: right;\n",
       "    }\n",
       "</style>\n",
       "<table border=\"1\" class=\"dataframe\">\n",
       "  <thead>\n",
       "    <tr style=\"text-align: right;\">\n",
       "      <th></th>\n",
       "      <th>count</th>\n",
       "      <th>mean</th>\n",
       "      <th>std</th>\n",
       "      <th>min</th>\n",
       "      <th>25%</th>\n",
       "      <th>50%</th>\n",
       "      <th>75%</th>\n",
       "      <th>max</th>\n",
       "    </tr>\n",
       "  </thead>\n",
       "  <tbody>\n",
       "    <tr>\n",
       "      <th>RELEASE_YEAR</th>\n",
       "      <td>49.0</td>\n",
       "      <td>1996.102041</td>\n",
       "      <td>17.335230</td>\n",
       "      <td>1954.0</td>\n",
       "      <td>1984.0</td>\n",
       "      <td>1998.0</td>\n",
       "      <td>2010.0</td>\n",
       "      <td>2022.0</td>\n",
       "    </tr>\n",
       "    <tr>\n",
       "      <th>SCORE</th>\n",
       "      <td>49.0</td>\n",
       "      <td>7.871429</td>\n",
       "      <td>0.632785</td>\n",
       "      <td>5.8</td>\n",
       "      <td>7.5</td>\n",
       "      <td>8.1</td>\n",
       "      <td>8.3</td>\n",
       "      <td>9.0</td>\n",
       "    </tr>\n",
       "  </tbody>\n",
       "</table>\n",
       "</div>"
      ],
      "text/plain": [
       "              count         mean        std     min     25%     50%     75%  \\\n",
       "RELEASE_YEAR   49.0  1996.102041  17.335230  1954.0  1984.0  1998.0  2010.0   \n",
       "SCORE          49.0     7.871429   0.632785     5.8     7.5     8.1     8.3   \n",
       "\n",
       "                 max  \n",
       "RELEASE_YEAR  2022.0  \n",
       "SCORE            9.0  "
      ]
     },
     "execution_count": 45,
     "metadata": {},
     "output_type": "execute_result"
    }
   ],
   "source": [
    "movies_year.describe().T"
   ]
  },
  {
   "attachments": {},
   "cell_type": "markdown",
   "metadata": {},
   "source": [
    "On peut donc voir que la note moyenne est de 7.87"
   ]
  },
  {
   "attachments": {},
   "cell_type": "markdown",
   "metadata": {},
   "source": [
    "- On affiche maintenant la distribution"
   ]
  },
  {
   "cell_type": "code",
   "execution_count": 53,
   "metadata": {},
   "outputs": [
    {
     "data": {
      "text/plain": [
       "<AxesSubplot:title={'center':'Distribution des notes'}, ylabel='Frequency'>"
      ]
     },
     "execution_count": 53,
     "metadata": {},
     "output_type": "execute_result"
    },
    {
     "data": {
      "image/png": "[encoded data removed]",
      "text/plain": [
       "<Figure size 864x360 with 1 Axes>"
      ]
     },
     "metadata": {},
     "output_type": "display_data"
    }
   ],
   "source": [
    "movies_year[\"SCORE\"].plot.hist(figsize=(12,5), title=\"Distribution des notes\", label='', bins=20, xlabel='Notes', ylabel='')"
   ]
  },
  {
   "attachments": {},
   "cell_type": "markdown",
   "metadata": {},
   "source": [
    "On peut voir que la majorité des films ont une note entre 8 et 8.5"
   ]
  },
  {
   "attachments": {},
   "cell_type": "markdown",
   "metadata": {},
   "source": [
    "- Les questions bonus\n",
    "\n",
    "Quelle est la durée moyenne des films ? \n",
    "\n",
    "Pour se faire il faudra qu'on fusionne deux sources de données, celle qu'on utilise en ce moment qui est la liste des sélectionné ainsi que la liste total des films qui contient la durée des films"
   ]
  },
  {
   "cell_type": "code",
   "execution_count": 109,
   "metadata": {},
   "outputs": [],
   "source": [
    "movies_year_with_duration = movies_year.merge(right=movies_total, how='left', on=['TITLE', 'SCORE', 'RELEASE_YEAR', 'MAIN_GENRE', 'MAIN_PRODUCTION'])"
   ]
  },
  {
   "cell_type": "code",
   "execution_count": 110,
   "metadata": {},
   "outputs": [
    {
     "data": {
      "text/html": [
       "<div>\n",
       "<style scoped>\n",
       "    .dataframe tbody tr th:only-of-type {\n",
       "        vertical-align: middle;\n",
       "    }\n",
       "\n",
       "    .dataframe tbody tr th {\n",
       "        vertical-align: top;\n",
       "    }\n",
       "\n",
       "    .dataframe thead th {\n",
       "        text-align: right;\n",
       "    }\n",
       "</style>\n",
       "<table border=\"1\" class=\"dataframe\">\n",
       "  <thead>\n",
       "    <tr style=\"text-align: right;\">\n",
       "      <th></th>\n",
       "      <th>TITLE</th>\n",
       "      <th>RELEASE_YEAR</th>\n",
       "      <th>SCORE</th>\n",
       "      <th>MAIN_GENRE</th>\n",
       "      <th>MAIN_PRODUCTION</th>\n",
       "      <th>NUMBER_OF_VOTES</th>\n",
       "      <th>DURATION</th>\n",
       "    </tr>\n",
       "  </thead>\n",
       "  <tbody>\n",
       "    <tr>\n",
       "      <th>0</th>\n",
       "      <td>White Christmas</td>\n",
       "      <td>1954</td>\n",
       "      <td>7.5</td>\n",
       "      <td>romance</td>\n",
       "      <td>US</td>\n",
       "      <td>42373.0</td>\n",
       "      <td>115.0</td>\n",
       "    </tr>\n",
       "    <tr>\n",
       "      <th>1</th>\n",
       "      <td>The Guns of Navarone</td>\n",
       "      <td>1961</td>\n",
       "      <td>7.5</td>\n",
       "      <td>war</td>\n",
       "      <td>US</td>\n",
       "      <td>50150.0</td>\n",
       "      <td>158.0</td>\n",
       "    </tr>\n",
       "    <tr>\n",
       "      <th>2</th>\n",
       "      <td>My Fair Lady</td>\n",
       "      <td>1964</td>\n",
       "      <td>7.8</td>\n",
       "      <td>drama</td>\n",
       "      <td>US</td>\n",
       "      <td>94121.0</td>\n",
       "      <td>170.0</td>\n",
       "    </tr>\n",
       "    <tr>\n",
       "      <th>3</th>\n",
       "      <td>Bonnie and Clyde</td>\n",
       "      <td>1967</td>\n",
       "      <td>7.7</td>\n",
       "      <td>drama</td>\n",
       "      <td>US</td>\n",
       "      <td>111189.0</td>\n",
       "      <td>110.0</td>\n",
       "    </tr>\n",
       "    <tr>\n",
       "      <th>4</th>\n",
       "      <td>Dirty Harry</td>\n",
       "      <td>1971</td>\n",
       "      <td>7.7</td>\n",
       "      <td>thriller</td>\n",
       "      <td>US</td>\n",
       "      <td>153463.0</td>\n",
       "      <td>102.0</td>\n",
       "    </tr>\n",
       "  </tbody>\n",
       "</table>\n",
       "</div>"
      ],
      "text/plain": [
       "                  TITLE  RELEASE_YEAR  SCORE MAIN_GENRE MAIN_PRODUCTION  \\\n",
       "0       White Christmas          1954    7.5    romance              US   \n",
       "1  The Guns of Navarone          1961    7.5        war              US   \n",
       "2          My Fair Lady          1964    7.8      drama              US   \n",
       "3      Bonnie and Clyde          1967    7.7      drama              US   \n",
       "4           Dirty Harry          1971    7.7   thriller              US   \n",
       "\n",
       "   NUMBER_OF_VOTES  DURATION  \n",
       "0          42373.0     115.0  \n",
       "1          50150.0     158.0  \n",
       "2          94121.0     170.0  \n",
       "3         111189.0     110.0  \n",
       "4         153463.0     102.0  "
      ]
     },
     "execution_count": 110,
     "metadata": {},
     "output_type": "execute_result"
    }
   ],
   "source": [
    "movies_year_with_duration.head()"
   ]
  },
  {
   "attachments": {},
   "cell_type": "markdown",
   "metadata": {},
   "source": [
    "On peut observer que les films qui ont une note inférieure à 7.5 et donc on aura trois lignes qui sont vides (remplacées par des NaN), qui ne seront pas pris en compte"
   ]
  },
  {
   "cell_type": "code",
   "execution_count": 69,
   "metadata": {},
   "outputs": [
    {
     "data": {
      "text/html": [
       "<div>\n",
       "<style scoped>\n",
       "    .dataframe tbody tr th:only-of-type {\n",
       "        vertical-align: middle;\n",
       "    }\n",
       "\n",
       "    .dataframe tbody tr th {\n",
       "        vertical-align: top;\n",
       "    }\n",
       "\n",
       "    .dataframe thead th {\n",
       "        text-align: right;\n",
       "    }\n",
       "</style>\n",
       "<table border=\"1\" class=\"dataframe\">\n",
       "  <thead>\n",
       "    <tr style=\"text-align: right;\">\n",
       "      <th></th>\n",
       "      <th>count</th>\n",
       "      <th>mean</th>\n",
       "      <th>std</th>\n",
       "      <th>min</th>\n",
       "      <th>25%</th>\n",
       "      <th>50%</th>\n",
       "      <th>75%</th>\n",
       "      <th>max</th>\n",
       "    </tr>\n",
       "  </thead>\n",
       "  <tbody>\n",
       "    <tr>\n",
       "      <th>RELEASE_YEAR</th>\n",
       "      <td>49.0</td>\n",
       "      <td>1996.102041</td>\n",
       "      <td>17.335230</td>\n",
       "      <td>1954.0</td>\n",
       "      <td>1984.00</td>\n",
       "      <td>1998.0</td>\n",
       "      <td>2010.00</td>\n",
       "      <td>2022.0</td>\n",
       "    </tr>\n",
       "    <tr>\n",
       "      <th>SCORE</th>\n",
       "      <td>49.0</td>\n",
       "      <td>7.871429</td>\n",
       "      <td>0.632785</td>\n",
       "      <td>5.8</td>\n",
       "      <td>7.50</td>\n",
       "      <td>8.1</td>\n",
       "      <td>8.30</td>\n",
       "      <td>9.0</td>\n",
       "    </tr>\n",
       "    <tr>\n",
       "      <th>NUMBER_OF_VOTES</th>\n",
       "      <td>46.0</td>\n",
       "      <td>350052.347826</td>\n",
       "      <td>490910.307129</td>\n",
       "      <td>25687.0</td>\n",
       "      <td>81939.75</td>\n",
       "      <td>180389.5</td>\n",
       "      <td>392299.75</td>\n",
       "      <td>2268288.0</td>\n",
       "    </tr>\n",
       "    <tr>\n",
       "      <th>DURATION</th>\n",
       "      <td>46.0</td>\n",
       "      <td>131.456522</td>\n",
       "      <td>36.307763</td>\n",
       "      <td>65.0</td>\n",
       "      <td>103.25</td>\n",
       "      <td>124.0</td>\n",
       "      <td>160.25</td>\n",
       "      <td>229.0</td>\n",
       "    </tr>\n",
       "  </tbody>\n",
       "</table>\n",
       "</div>"
      ],
      "text/plain": [
       "                 count           mean            std      min       25%  \\\n",
       "RELEASE_YEAR      49.0    1996.102041      17.335230   1954.0   1984.00   \n",
       "SCORE             49.0       7.871429       0.632785      5.8      7.50   \n",
       "NUMBER_OF_VOTES   46.0  350052.347826  490910.307129  25687.0  81939.75   \n",
       "DURATION          46.0     131.456522      36.307763     65.0    103.25   \n",
       "\n",
       "                      50%        75%        max  \n",
       "RELEASE_YEAR       1998.0    2010.00     2022.0  \n",
       "SCORE                 8.1       8.30        9.0  \n",
       "NUMBER_OF_VOTES  180389.5  392299.75  2268288.0  \n",
       "DURATION            124.0     160.25      229.0  "
      ]
     },
     "execution_count": 69,
     "metadata": {},
     "output_type": "execute_result"
    }
   ],
   "source": [
    "movies_year_with_duration.describe().T"
   ]
  },
  {
   "attachments": {},
   "cell_type": "markdown",
   "metadata": {},
   "source": [
    "On peut voir ainsi que la durée moyenne d'un film de cette liste est de 131.45 min avec un minimum de 65 min et un maximum de 229 min."
   ]
  },
  {
   "attachments": {},
   "cell_type": "markdown",
   "metadata": {},
   "source": [
    "- Quel est le réalisateur qui revient le plus dans la liste ?\n",
    "Pour se faire on va prendre les credits à partir de raw_credits.csv et les fusionner avec raw_titles.csv à travers duquel on pourra faire la reconnaissance titre du film <-> id"
   ]
  },
  {
   "cell_type": "code",
   "execution_count": 71,
   "metadata": {},
   "outputs": [
    {
     "data": {
      "text/html": [
       "<div>\n",
       "<style scoped>\n",
       "    .dataframe tbody tr th:only-of-type {\n",
       "        vertical-align: middle;\n",
       "    }\n",
       "\n",
       "    .dataframe tbody tr th {\n",
       "        vertical-align: top;\n",
       "    }\n",
       "\n",
       "    .dataframe thead th {\n",
       "        text-align: right;\n",
       "    }\n",
       "</style>\n",
       "<table border=\"1\" class=\"dataframe\">\n",
       "  <thead>\n",
       "    <tr style=\"text-align: right;\">\n",
       "      <th></th>\n",
       "      <th>person_id</th>\n",
       "      <th>id</th>\n",
       "      <th>name</th>\n",
       "      <th>character</th>\n",
       "      <th>role</th>\n",
       "    </tr>\n",
       "    <tr>\n",
       "      <th>index</th>\n",
       "      <th></th>\n",
       "      <th></th>\n",
       "      <th></th>\n",
       "      <th></th>\n",
       "      <th></th>\n",
       "    </tr>\n",
       "  </thead>\n",
       "  <tbody>\n",
       "    <tr>\n",
       "      <th>0</th>\n",
       "      <td>3748</td>\n",
       "      <td>tm84618</td>\n",
       "      <td>Robert De Niro</td>\n",
       "      <td>Travis Bickle</td>\n",
       "      <td>ACTOR</td>\n",
       "    </tr>\n",
       "    <tr>\n",
       "      <th>1</th>\n",
       "      <td>14658</td>\n",
       "      <td>tm84618</td>\n",
       "      <td>Jodie Foster</td>\n",
       "      <td>Iris Steensma</td>\n",
       "      <td>ACTOR</td>\n",
       "    </tr>\n",
       "    <tr>\n",
       "      <th>2</th>\n",
       "      <td>7064</td>\n",
       "      <td>tm84618</td>\n",
       "      <td>Albert Brooks</td>\n",
       "      <td>Tom</td>\n",
       "      <td>ACTOR</td>\n",
       "    </tr>\n",
       "    <tr>\n",
       "      <th>3</th>\n",
       "      <td>3739</td>\n",
       "      <td>tm84618</td>\n",
       "      <td>Harvey Keitel</td>\n",
       "      <td>Matthew 'Sport' Higgins</td>\n",
       "      <td>ACTOR</td>\n",
       "    </tr>\n",
       "    <tr>\n",
       "      <th>4</th>\n",
       "      <td>48933</td>\n",
       "      <td>tm84618</td>\n",
       "      <td>Cybill Shepherd</td>\n",
       "      <td>Betsy</td>\n",
       "      <td>ACTOR</td>\n",
       "    </tr>\n",
       "  </tbody>\n",
       "</table>\n",
       "</div>"
      ],
      "text/plain": [
       "       person_id       id             name                character   role\n",
       "index                                                                     \n",
       "0           3748  tm84618   Robert De Niro            Travis Bickle  ACTOR\n",
       "1          14658  tm84618     Jodie Foster            Iris Steensma  ACTOR\n",
       "2           7064  tm84618    Albert Brooks                      Tom  ACTOR\n",
       "3           3739  tm84618    Harvey Keitel  Matthew 'Sport' Higgins  ACTOR\n",
       "4          48933  tm84618  Cybill Shepherd                    Betsy  ACTOR"
      ]
     },
     "execution_count": 71,
     "metadata": {},
     "output_type": "execute_result"
    }
   ],
   "source": [
    "credits.head()"
   ]
  },
  {
   "cell_type": "code",
   "execution_count": 75,
   "metadata": {},
   "outputs": [
    {
     "data": {
      "text/plain": [
       "ACTOR       72690\n",
       "DIRECTOR     4523\n",
       "Name: role, dtype: int64"
      ]
     },
     "execution_count": 75,
     "metadata": {},
     "output_type": "execute_result"
    }
   ],
   "source": [
    "credits[\"role\"].value_counts()"
   ]
  },
  {
   "attachments": {},
   "cell_type": "markdown",
   "metadata": {},
   "source": [
    "On peut voir qu'on a 72690 acteurs et 4523 réalisateurs"
   ]
  },
  {
   "cell_type": "code",
   "execution_count": 76,
   "metadata": {},
   "outputs": [
    {
     "data": {
      "text/html": [
       "<div>\n",
       "<style scoped>\n",
       "    .dataframe tbody tr th:only-of-type {\n",
       "        vertical-align: middle;\n",
       "    }\n",
       "\n",
       "    .dataframe tbody tr th {\n",
       "        vertical-align: top;\n",
       "    }\n",
       "\n",
       "    .dataframe thead th {\n",
       "        text-align: right;\n",
       "    }\n",
       "</style>\n",
       "<table border=\"1\" class=\"dataframe\">\n",
       "  <thead>\n",
       "    <tr style=\"text-align: right;\">\n",
       "      <th></th>\n",
       "      <th>id</th>\n",
       "      <th>title</th>\n",
       "      <th>type</th>\n",
       "      <th>release_year</th>\n",
       "      <th>age_certification</th>\n",
       "      <th>runtime</th>\n",
       "      <th>genres</th>\n",
       "      <th>production_countries</th>\n",
       "      <th>seasons</th>\n",
       "      <th>imdb_id</th>\n",
       "      <th>imdb_score</th>\n",
       "      <th>imdb_votes</th>\n",
       "    </tr>\n",
       "    <tr>\n",
       "      <th>index</th>\n",
       "      <th></th>\n",
       "      <th></th>\n",
       "      <th></th>\n",
       "      <th></th>\n",
       "      <th></th>\n",
       "      <th></th>\n",
       "      <th></th>\n",
       "      <th></th>\n",
       "      <th></th>\n",
       "      <th></th>\n",
       "      <th></th>\n",
       "      <th></th>\n",
       "    </tr>\n",
       "  </thead>\n",
       "  <tbody>\n",
       "    <tr>\n",
       "      <th>0</th>\n",
       "      <td>ts300399</td>\n",
       "      <td>Five Came Back: The Reference Films</td>\n",
       "      <td>SHOW</td>\n",
       "      <td>1945</td>\n",
       "      <td>TV-MA</td>\n",
       "      <td>48</td>\n",
       "      <td>['documentation']</td>\n",
       "      <td>['US']</td>\n",
       "      <td>1.0</td>\n",
       "      <td>NaN</td>\n",
       "      <td>NaN</td>\n",
       "      <td>NaN</td>\n",
       "    </tr>\n",
       "    <tr>\n",
       "      <th>1</th>\n",
       "      <td>tm84618</td>\n",
       "      <td>Taxi Driver</td>\n",
       "      <td>MOVIE</td>\n",
       "      <td>1976</td>\n",
       "      <td>R</td>\n",
       "      <td>113</td>\n",
       "      <td>['crime', 'drama']</td>\n",
       "      <td>['US']</td>\n",
       "      <td>NaN</td>\n",
       "      <td>tt0075314</td>\n",
       "      <td>8.3</td>\n",
       "      <td>795222.0</td>\n",
       "    </tr>\n",
       "    <tr>\n",
       "      <th>2</th>\n",
       "      <td>tm127384</td>\n",
       "      <td>Monty Python and the Holy Grail</td>\n",
       "      <td>MOVIE</td>\n",
       "      <td>1975</td>\n",
       "      <td>PG</td>\n",
       "      <td>91</td>\n",
       "      <td>['comedy', 'fantasy']</td>\n",
       "      <td>['GB']</td>\n",
       "      <td>NaN</td>\n",
       "      <td>tt0071853</td>\n",
       "      <td>8.2</td>\n",
       "      <td>530877.0</td>\n",
       "    </tr>\n",
       "    <tr>\n",
       "      <th>3</th>\n",
       "      <td>tm70993</td>\n",
       "      <td>Life of Brian</td>\n",
       "      <td>MOVIE</td>\n",
       "      <td>1979</td>\n",
       "      <td>R</td>\n",
       "      <td>94</td>\n",
       "      <td>['comedy']</td>\n",
       "      <td>['GB']</td>\n",
       "      <td>NaN</td>\n",
       "      <td>tt0079470</td>\n",
       "      <td>8.0</td>\n",
       "      <td>392419.0</td>\n",
       "    </tr>\n",
       "    <tr>\n",
       "      <th>4</th>\n",
       "      <td>tm190788</td>\n",
       "      <td>The Exorcist</td>\n",
       "      <td>MOVIE</td>\n",
       "      <td>1973</td>\n",
       "      <td>R</td>\n",
       "      <td>133</td>\n",
       "      <td>['horror']</td>\n",
       "      <td>['US']</td>\n",
       "      <td>NaN</td>\n",
       "      <td>tt0070047</td>\n",
       "      <td>8.1</td>\n",
       "      <td>391942.0</td>\n",
       "    </tr>\n",
       "  </tbody>\n",
       "</table>\n",
       "</div>"
      ],
      "text/plain": [
       "             id                                title   type  release_year  \\\n",
       "index                                                                       \n",
       "0      ts300399  Five Came Back: The Reference Films   SHOW          1945   \n",
       "1       tm84618                          Taxi Driver  MOVIE          1976   \n",
       "2      tm127384      Monty Python and the Holy Grail  MOVIE          1975   \n",
       "3       tm70993                        Life of Brian  MOVIE          1979   \n",
       "4      tm190788                         The Exorcist  MOVIE          1973   \n",
       "\n",
       "      age_certification  runtime                 genres production_countries  \\\n",
       "index                                                                          \n",
       "0                 TV-MA       48      ['documentation']               ['US']   \n",
       "1                     R      113     ['crime', 'drama']               ['US']   \n",
       "2                    PG       91  ['comedy', 'fantasy']               ['GB']   \n",
       "3                     R       94             ['comedy']               ['GB']   \n",
       "4                     R      133             ['horror']               ['US']   \n",
       "\n",
       "       seasons    imdb_id  imdb_score  imdb_votes  \n",
       "index                                              \n",
       "0          1.0        NaN         NaN         NaN  \n",
       "1          NaN  tt0075314         8.3    795222.0  \n",
       "2          NaN  tt0071853         8.2    530877.0  \n",
       "3          NaN  tt0079470         8.0    392419.0  \n",
       "4          NaN  tt0070047         8.1    391942.0  "
      ]
     },
     "execution_count": 76,
     "metadata": {},
     "output_type": "execute_result"
    }
   ],
   "source": [
    "titles.head()"
   ]
  },
  {
   "cell_type": "code",
   "execution_count": 103,
   "metadata": {},
   "outputs": [
    {
     "data": {
      "text/html": [
       "<div>\n",
       "<style scoped>\n",
       "    .dataframe tbody tr th:only-of-type {\n",
       "        vertical-align: middle;\n",
       "    }\n",
       "\n",
       "    .dataframe tbody tr th {\n",
       "        vertical-align: top;\n",
       "    }\n",
       "\n",
       "    .dataframe thead th {\n",
       "        text-align: right;\n",
       "    }\n",
       "</style>\n",
       "<table border=\"1\" class=\"dataframe\">\n",
       "  <thead>\n",
       "    <tr style=\"text-align: right;\">\n",
       "      <th></th>\n",
       "      <th>id</th>\n",
       "      <th>name</th>\n",
       "      <th>role</th>\n",
       "      <th>title</th>\n",
       "      <th>type</th>\n",
       "      <th>release_year</th>\n",
       "      <th>runtime</th>\n",
       "      <th>imdb_score</th>\n",
       "      <th>imdb_votes</th>\n",
       "    </tr>\n",
       "  </thead>\n",
       "  <tbody>\n",
       "    <tr>\n",
       "      <th>0</th>\n",
       "      <td>tm84618</td>\n",
       "      <td>Robert De Niro</td>\n",
       "      <td>ACTOR</td>\n",
       "      <td>Taxi Driver</td>\n",
       "      <td>MOVIE</td>\n",
       "      <td>1976</td>\n",
       "      <td>113</td>\n",
       "      <td>8.3</td>\n",
       "      <td>795222.0</td>\n",
       "    </tr>\n",
       "    <tr>\n",
       "      <th>1</th>\n",
       "      <td>tm84618</td>\n",
       "      <td>Jodie Foster</td>\n",
       "      <td>ACTOR</td>\n",
       "      <td>Taxi Driver</td>\n",
       "      <td>MOVIE</td>\n",
       "      <td>1976</td>\n",
       "      <td>113</td>\n",
       "      <td>8.3</td>\n",
       "      <td>795222.0</td>\n",
       "    </tr>\n",
       "    <tr>\n",
       "      <th>2</th>\n",
       "      <td>tm84618</td>\n",
       "      <td>Albert Brooks</td>\n",
       "      <td>ACTOR</td>\n",
       "      <td>Taxi Driver</td>\n",
       "      <td>MOVIE</td>\n",
       "      <td>1976</td>\n",
       "      <td>113</td>\n",
       "      <td>8.3</td>\n",
       "      <td>795222.0</td>\n",
       "    </tr>\n",
       "    <tr>\n",
       "      <th>3</th>\n",
       "      <td>tm84618</td>\n",
       "      <td>Harvey Keitel</td>\n",
       "      <td>ACTOR</td>\n",
       "      <td>Taxi Driver</td>\n",
       "      <td>MOVIE</td>\n",
       "      <td>1976</td>\n",
       "      <td>113</td>\n",
       "      <td>8.3</td>\n",
       "      <td>795222.0</td>\n",
       "    </tr>\n",
       "    <tr>\n",
       "      <th>4</th>\n",
       "      <td>tm84618</td>\n",
       "      <td>Cybill Shepherd</td>\n",
       "      <td>ACTOR</td>\n",
       "      <td>Taxi Driver</td>\n",
       "      <td>MOVIE</td>\n",
       "      <td>1976</td>\n",
       "      <td>113</td>\n",
       "      <td>8.3</td>\n",
       "      <td>795222.0</td>\n",
       "    </tr>\n",
       "    <tr>\n",
       "      <th>...</th>\n",
       "      <td>...</td>\n",
       "      <td>...</td>\n",
       "      <td>...</td>\n",
       "      <td>...</td>\n",
       "      <td>...</td>\n",
       "      <td>...</td>\n",
       "      <td>...</td>\n",
       "      <td>...</td>\n",
       "      <td>...</td>\n",
       "    </tr>\n",
       "    <tr>\n",
       "      <th>77208</th>\n",
       "      <td>tm1098060</td>\n",
       "      <td>Nnenna Rachael Okonkwo</td>\n",
       "      <td>ACTOR</td>\n",
       "      <td>Shadow Parties</td>\n",
       "      <td>MOVIE</td>\n",
       "      <td>2021</td>\n",
       "      <td>116</td>\n",
       "      <td>6.2</td>\n",
       "      <td>9.0</td>\n",
       "    </tr>\n",
       "    <tr>\n",
       "      <th>77209</th>\n",
       "      <td>tm1098060</td>\n",
       "      <td>Lucien Morgan</td>\n",
       "      <td>ACTOR</td>\n",
       "      <td>Shadow Parties</td>\n",
       "      <td>MOVIE</td>\n",
       "      <td>2021</td>\n",
       "      <td>116</td>\n",
       "      <td>6.2</td>\n",
       "      <td>9.0</td>\n",
       "    </tr>\n",
       "    <tr>\n",
       "      <th>77210</th>\n",
       "      <td>tm1098060</td>\n",
       "      <td>Magdalena Korpas</td>\n",
       "      <td>ACTOR</td>\n",
       "      <td>Shadow Parties</td>\n",
       "      <td>MOVIE</td>\n",
       "      <td>2021</td>\n",
       "      <td>116</td>\n",
       "      <td>6.2</td>\n",
       "      <td>9.0</td>\n",
       "    </tr>\n",
       "    <tr>\n",
       "      <th>77211</th>\n",
       "      <td>tm1098060</td>\n",
       "      <td>Mistura Olusanya</td>\n",
       "      <td>ACTOR</td>\n",
       "      <td>Shadow Parties</td>\n",
       "      <td>MOVIE</td>\n",
       "      <td>2021</td>\n",
       "      <td>116</td>\n",
       "      <td>6.2</td>\n",
       "      <td>9.0</td>\n",
       "    </tr>\n",
       "    <tr>\n",
       "      <th>77212</th>\n",
       "      <td>tm1098060</td>\n",
       "      <td>Yemi Amodu</td>\n",
       "      <td>DIRECTOR</td>\n",
       "      <td>Shadow Parties</td>\n",
       "      <td>MOVIE</td>\n",
       "      <td>2021</td>\n",
       "      <td>116</td>\n",
       "      <td>6.2</td>\n",
       "      <td>9.0</td>\n",
       "    </tr>\n",
       "  </tbody>\n",
       "</table>\n",
       "<p>77213 rows × 9 columns</p>\n",
       "</div>"
      ],
      "text/plain": [
       "              id                    name      role           title   type  \\\n",
       "0        tm84618          Robert De Niro     ACTOR     Taxi Driver  MOVIE   \n",
       "1        tm84618            Jodie Foster     ACTOR     Taxi Driver  MOVIE   \n",
       "2        tm84618           Albert Brooks     ACTOR     Taxi Driver  MOVIE   \n",
       "3        tm84618           Harvey Keitel     ACTOR     Taxi Driver  MOVIE   \n",
       "4        tm84618         Cybill Shepherd     ACTOR     Taxi Driver  MOVIE   \n",
       "...          ...                     ...       ...             ...    ...   \n",
       "77208  tm1098060  Nnenna Rachael Okonkwo     ACTOR  Shadow Parties  MOVIE   \n",
       "77209  tm1098060           Lucien Morgan     ACTOR  Shadow Parties  MOVIE   \n",
       "77210  tm1098060        Magdalena Korpas     ACTOR  Shadow Parties  MOVIE   \n",
       "77211  tm1098060        Mistura Olusanya     ACTOR  Shadow Parties  MOVIE   \n",
       "77212  tm1098060              Yemi Amodu  DIRECTOR  Shadow Parties  MOVIE   \n",
       "\n",
       "       release_year  runtime  imdb_score  imdb_votes  \n",
       "0              1976      113         8.3    795222.0  \n",
       "1              1976      113         8.3    795222.0  \n",
       "2              1976      113         8.3    795222.0  \n",
       "3              1976      113         8.3    795222.0  \n",
       "4              1976      113         8.3    795222.0  \n",
       "...             ...      ...         ...         ...  \n",
       "77208          2021      116         6.2         9.0  \n",
       "77209          2021      116         6.2         9.0  \n",
       "77210          2021      116         6.2         9.0  \n",
       "77211          2021      116         6.2         9.0  \n",
       "77212          2021      116         6.2         9.0  \n",
       "\n",
       "[77213 rows x 9 columns]"
      ]
     },
     "execution_count": 103,
     "metadata": {},
     "output_type": "execute_result"
    }
   ],
   "source": [
    "credits_with_title = credits.merge(right=titles, how='left', on='id')[[\"id\", \"name\", \"role\", \"title\", \"type\", \"release_year\", 'runtime', 'imdb_score', 'imdb_votes']]\n",
    "credits_with_title"
   ]
  },
  {
   "attachments": {},
   "cell_type": "markdown",
   "metadata": {},
   "source": [
    "Maintenant on filtre pour ne garder que nos 49 films et on ne garde que les acteurs"
   ]
  },
  {
   "cell_type": "code",
   "execution_count": 97,
   "metadata": {},
   "outputs": [
    {
     "data": {
      "text/html": [
       "<div>\n",
       "<style scoped>\n",
       "    .dataframe tbody tr th:only-of-type {\n",
       "        vertical-align: middle;\n",
       "    }\n",
       "\n",
       "    .dataframe tbody tr th {\n",
       "        vertical-align: top;\n",
       "    }\n",
       "\n",
       "    .dataframe thead th {\n",
       "        text-align: right;\n",
       "    }\n",
       "</style>\n",
       "<table border=\"1\" class=\"dataframe\">\n",
       "  <thead>\n",
       "    <tr style=\"text-align: right;\">\n",
       "      <th></th>\n",
       "      <th>id</th>\n",
       "      <th>name</th>\n",
       "      <th>role</th>\n",
       "      <th>title</th>\n",
       "      <th>type</th>\n",
       "      <th>release_year</th>\n",
       "      <th>runtime</th>\n",
       "      <th>imdb_score</th>\n",
       "    </tr>\n",
       "  </thead>\n",
       "  <tbody>\n",
       "    <tr>\n",
       "      <th>0</th>\n",
       "      <td>tm84618</td>\n",
       "      <td>Robert De Niro</td>\n",
       "      <td>ACTOR</td>\n",
       "      <td>Taxi Driver</td>\n",
       "      <td>MOVIE</td>\n",
       "      <td>1976</td>\n",
       "      <td>113</td>\n",
       "      <td>8.3</td>\n",
       "    </tr>\n",
       "    <tr>\n",
       "      <th>1</th>\n",
       "      <td>tm84618</td>\n",
       "      <td>Jodie Foster</td>\n",
       "      <td>ACTOR</td>\n",
       "      <td>Taxi Driver</td>\n",
       "      <td>MOVIE</td>\n",
       "      <td>1976</td>\n",
       "      <td>113</td>\n",
       "      <td>8.3</td>\n",
       "    </tr>\n",
       "    <tr>\n",
       "      <th>2</th>\n",
       "      <td>tm84618</td>\n",
       "      <td>Albert Brooks</td>\n",
       "      <td>ACTOR</td>\n",
       "      <td>Taxi Driver</td>\n",
       "      <td>MOVIE</td>\n",
       "      <td>1976</td>\n",
       "      <td>113</td>\n",
       "      <td>8.3</td>\n",
       "    </tr>\n",
       "    <tr>\n",
       "      <th>3</th>\n",
       "      <td>tm84618</td>\n",
       "      <td>Harvey Keitel</td>\n",
       "      <td>ACTOR</td>\n",
       "      <td>Taxi Driver</td>\n",
       "      <td>MOVIE</td>\n",
       "      <td>1976</td>\n",
       "      <td>113</td>\n",
       "      <td>8.3</td>\n",
       "    </tr>\n",
       "    <tr>\n",
       "      <th>4</th>\n",
       "      <td>tm84618</td>\n",
       "      <td>Cybill Shepherd</td>\n",
       "      <td>ACTOR</td>\n",
       "      <td>Taxi Driver</td>\n",
       "      <td>MOVIE</td>\n",
       "      <td>1976</td>\n",
       "      <td>113</td>\n",
       "      <td>8.3</td>\n",
       "    </tr>\n",
       "  </tbody>\n",
       "</table>\n",
       "</div>"
      ],
      "text/plain": [
       "        id             name   role        title   type  release_year  runtime  \\\n",
       "0  tm84618   Robert De Niro  ACTOR  Taxi Driver  MOVIE          1976      113   \n",
       "1  tm84618     Jodie Foster  ACTOR  Taxi Driver  MOVIE          1976      113   \n",
       "2  tm84618    Albert Brooks  ACTOR  Taxi Driver  MOVIE          1976      113   \n",
       "3  tm84618    Harvey Keitel  ACTOR  Taxi Driver  MOVIE          1976      113   \n",
       "4  tm84618  Cybill Shepherd  ACTOR  Taxi Driver  MOVIE          1976      113   \n",
       "\n",
       "   imdb_score  \n",
       "0         8.3  \n",
       "1         8.3  \n",
       "2         8.3  \n",
       "3         8.3  \n",
       "4         8.3  "
      ]
     },
     "execution_count": 97,
     "metadata": {},
     "output_type": "execute_result"
    }
   ],
   "source": [
    "credits_with_title_actor = credits_with_title[(credits_with_title[\"title\"].isin(movies_year[\"TITLE\"])) & (credits_with_title[\"role\"]==\"ACTOR\")]\n",
    "credits_with_title_actor.head()"
   ]
  },
  {
   "cell_type": "code",
   "execution_count": 98,
   "metadata": {},
   "outputs": [
    {
     "data": {
      "text/plain": [
       "Aamir Khan           5\n",
       "Terry Jones          3\n",
       "Robert De Niro       3\n",
       "Zach Hanner          3\n",
       "Tom Hanks            3\n",
       "                    ..\n",
       "Adam Sandler         1\n",
       "Jack MacGowran       1\n",
       "Parikshat Sahni      1\n",
       "Julian Rhind-Tutt    1\n",
       "Mrunal Jadhav        1\n",
       "Name: name, Length: 1722, dtype: int64"
      ]
     },
     "execution_count": 98,
     "metadata": {},
     "output_type": "execute_result"
    }
   ],
   "source": [
    "credits_with_title_actor[\"name\"].value_counts()"
   ]
  },
  {
   "attachments": {},
   "cell_type": "markdown",
   "metadata": {},
   "source": [
    "Donc on a Aamir Khan qui est l'acteur qui revient le plus souvent (ce qui est très surprenant il est au dessus de Robert De Niro et Tom Hanks...). \n",
    "\n",
    "On fait de même pour les réalisateurs"
   ]
  },
  {
   "cell_type": "code",
   "execution_count": 99,
   "metadata": {},
   "outputs": [
    {
     "data": {
      "text/html": [
       "<div>\n",
       "<style scoped>\n",
       "    .dataframe tbody tr th:only-of-type {\n",
       "        vertical-align: middle;\n",
       "    }\n",
       "\n",
       "    .dataframe tbody tr th {\n",
       "        vertical-align: top;\n",
       "    }\n",
       "\n",
       "    .dataframe thead th {\n",
       "        text-align: right;\n",
       "    }\n",
       "</style>\n",
       "<table border=\"1\" class=\"dataframe\">\n",
       "  <thead>\n",
       "    <tr style=\"text-align: right;\">\n",
       "      <th></th>\n",
       "      <th>id</th>\n",
       "      <th>name</th>\n",
       "      <th>role</th>\n",
       "      <th>title</th>\n",
       "      <th>type</th>\n",
       "      <th>release_year</th>\n",
       "      <th>runtime</th>\n",
       "      <th>imdb_score</th>\n",
       "    </tr>\n",
       "  </thead>\n",
       "  <tbody>\n",
       "    <tr>\n",
       "      <th>36</th>\n",
       "      <td>tm84618</td>\n",
       "      <td>Martin Scorsese</td>\n",
       "      <td>DIRECTOR</td>\n",
       "      <td>Taxi Driver</td>\n",
       "      <td>MOVIE</td>\n",
       "      <td>1976</td>\n",
       "      <td>113</td>\n",
       "      <td>8.3</td>\n",
       "    </tr>\n",
       "    <tr>\n",
       "      <th>83</th>\n",
       "      <td>tm127384</td>\n",
       "      <td>Terry Jones</td>\n",
       "      <td>DIRECTOR</td>\n",
       "      <td>Monty Python and the Holy Grail</td>\n",
       "      <td>MOVIE</td>\n",
       "      <td>1975</td>\n",
       "      <td>91</td>\n",
       "      <td>8.2</td>\n",
       "    </tr>\n",
       "    <tr>\n",
       "      <th>84</th>\n",
       "      <td>tm127384</td>\n",
       "      <td>Terry Gilliam</td>\n",
       "      <td>DIRECTOR</td>\n",
       "      <td>Monty Python and the Holy Grail</td>\n",
       "      <td>MOVIE</td>\n",
       "      <td>1975</td>\n",
       "      <td>91</td>\n",
       "      <td>8.2</td>\n",
       "    </tr>\n",
       "    <tr>\n",
       "      <th>106</th>\n",
       "      <td>tm70993</td>\n",
       "      <td>Terry Jones</td>\n",
       "      <td>DIRECTOR</td>\n",
       "      <td>Life of Brian</td>\n",
       "      <td>MOVIE</td>\n",
       "      <td>1979</td>\n",
       "      <td>94</td>\n",
       "      <td>8.0</td>\n",
       "    </tr>\n",
       "    <tr>\n",
       "      <th>148</th>\n",
       "      <td>tm190788</td>\n",
       "      <td>William Friedkin</td>\n",
       "      <td>DIRECTOR</td>\n",
       "      <td>The Exorcist</td>\n",
       "      <td>MOVIE</td>\n",
       "      <td>1973</td>\n",
       "      <td>133</td>\n",
       "      <td>8.1</td>\n",
       "    </tr>\n",
       "  </tbody>\n",
       "</table>\n",
       "</div>"
      ],
      "text/plain": [
       "           id              name      role                            title  \\\n",
       "36    tm84618   Martin Scorsese  DIRECTOR                      Taxi Driver   \n",
       "83   tm127384       Terry Jones  DIRECTOR  Monty Python and the Holy Grail   \n",
       "84   tm127384     Terry Gilliam  DIRECTOR  Monty Python and the Holy Grail   \n",
       "106   tm70993       Terry Jones  DIRECTOR                    Life of Brian   \n",
       "148  tm190788  William Friedkin  DIRECTOR                     The Exorcist   \n",
       "\n",
       "      type  release_year  runtime  imdb_score  \n",
       "36   MOVIE          1976      113         8.3  \n",
       "83   MOVIE          1975       91         8.2  \n",
       "84   MOVIE          1975       91         8.2  \n",
       "106  MOVIE          1979       94         8.0  \n",
       "148  MOVIE          1973      133         8.1  "
      ]
     },
     "execution_count": 99,
     "metadata": {},
     "output_type": "execute_result"
    }
   ],
   "source": [
    "credits_with_title_real = credits_with_title[(credits_with_title[\"title\"].isin(movies_year[\"TITLE\"])) & (credits_with_title[\"role\"]==\"DIRECTOR\")]\n",
    "credits_with_title_real.head()"
   ]
  },
  {
   "cell_type": "code",
   "execution_count": 100,
   "metadata": {},
   "outputs": [
    {
     "data": {
      "text/plain": [
       "Rob Reiner                 2\n",
       "Terry Jones                2\n",
       "Ashutosh Gowariker         2\n",
       "Bo Burnham                 1\n",
       "Alastair Fothergill        1\n",
       "George Cukor               1\n",
       "Terry Gilliam              1\n",
       "Dennis Dugan               1\n",
       "Rajkumar Hirani            1\n",
       "Martin Scorsese            1\n",
       "Albert Hughes              1\n",
       "Wilson Yip                 1\n",
       "James Mangold              1\n",
       "Penny Marshall             1\n",
       "Robert Rodriguez           1\n",
       "Randal Kleiser             1\n",
       "John Carpenter             1\n",
       "John Huston                1\n",
       "Don Siegel                 1\n",
       "Rob Marshall               1\n",
       "Nitesh Tiwari              1\n",
       "Christoffer Boe            1\n",
       "Nishikant Kamat            1\n",
       "Hideaki Anno               1\n",
       "Roland Emmerich            1\n",
       "Gavin O'Connor             1\n",
       "Quentin Tarantino          1\n",
       "Stan Lathan                1\n",
       "Michael Curtiz             1\n",
       "J. Lee Thompson            1\n",
       "Jonathan Hughes            1\n",
       "Aamir Khan                 1\n",
       "Robert Zemeckis            1\n",
       "Steven Spielberg           1\n",
       "Sergio Leone               1\n",
       "Sriram Raghavan            1\n",
       "William Friedkin           1\n",
       "Antonio Campos             1\n",
       "Ron Howard                 1\n",
       "Stanley Kubrick            1\n",
       "Sam Mendes                 1\n",
       "Arthur Penn                1\n",
       "Rakeysh Omprakash Mehra    1\n",
       "S.S. Rajamouli             1\n",
       "Howard Zieff               1\n",
       "Kazuya Tsurumaki           1\n",
       "Keith Scholey              1\n",
       "Felicity Morris            1\n",
       "Vikas Bahl                 1\n",
       "Daniel Emeke Oriahi        1\n",
       "Tim Burton                 1\n",
       "Robert Redford             1\n",
       "Christopher Nolan          1\n",
       "Allen Hughes               1\n",
       "Name: name, dtype: int64"
      ]
     },
     "execution_count": 100,
     "metadata": {},
     "output_type": "execute_result"
    }
   ],
   "source": [
    "credits_with_title_real[\"name\"].value_counts()"
   ]
  },
  {
   "attachments": {},
   "cell_type": "markdown",
   "metadata": {},
   "source": [
    "La on a trois réalisateurs avec le même nombre d'apparitions dans la liste : Rob Reiner, Terry Jones et Ashutosh Gowariker (ces indiens ils sont partout)."
   ]
  },
  {
   "attachments": {},
   "cell_type": "markdown",
   "metadata": {},
   "source": [
    "BONUS : ajouter une distribution avec la notes données, le nombre de votes ainsi que le genre du film"
   ]
  },
  {
   "cell_type": "code",
   "execution_count": 111,
   "metadata": {},
   "outputs": [
    {
     "data": {
      "text/html": [
       "<div>\n",
       "<style scoped>\n",
       "    .dataframe tbody tr th:only-of-type {\n",
       "        vertical-align: middle;\n",
       "    }\n",
       "\n",
       "    .dataframe tbody tr th {\n",
       "        vertical-align: top;\n",
       "    }\n",
       "\n",
       "    .dataframe thead th {\n",
       "        text-align: right;\n",
       "    }\n",
       "</style>\n",
       "<table border=\"1\" class=\"dataframe\">\n",
       "  <thead>\n",
       "    <tr style=\"text-align: right;\">\n",
       "      <th></th>\n",
       "      <th>TITLE</th>\n",
       "      <th>RELEASE_YEAR</th>\n",
       "      <th>SCORE</th>\n",
       "      <th>MAIN_GENRE</th>\n",
       "      <th>MAIN_PRODUCTION</th>\n",
       "      <th>NUMBER_OF_VOTES</th>\n",
       "      <th>DURATION</th>\n",
       "    </tr>\n",
       "  </thead>\n",
       "  <tbody>\n",
       "    <tr>\n",
       "      <th>0</th>\n",
       "      <td>White Christmas</td>\n",
       "      <td>1954</td>\n",
       "      <td>7.5</td>\n",
       "      <td>romance</td>\n",
       "      <td>US</td>\n",
       "      <td>42373.0</td>\n",
       "      <td>115.0</td>\n",
       "    </tr>\n",
       "    <tr>\n",
       "      <th>1</th>\n",
       "      <td>The Guns of Navarone</td>\n",
       "      <td>1961</td>\n",
       "      <td>7.5</td>\n",
       "      <td>war</td>\n",
       "      <td>US</td>\n",
       "      <td>50150.0</td>\n",
       "      <td>158.0</td>\n",
       "    </tr>\n",
       "    <tr>\n",
       "      <th>2</th>\n",
       "      <td>My Fair Lady</td>\n",
       "      <td>1964</td>\n",
       "      <td>7.8</td>\n",
       "      <td>drama</td>\n",
       "      <td>US</td>\n",
       "      <td>94121.0</td>\n",
       "      <td>170.0</td>\n",
       "    </tr>\n",
       "    <tr>\n",
       "      <th>3</th>\n",
       "      <td>Bonnie and Clyde</td>\n",
       "      <td>1967</td>\n",
       "      <td>7.7</td>\n",
       "      <td>drama</td>\n",
       "      <td>US</td>\n",
       "      <td>111189.0</td>\n",
       "      <td>110.0</td>\n",
       "    </tr>\n",
       "    <tr>\n",
       "      <th>4</th>\n",
       "      <td>Dirty Harry</td>\n",
       "      <td>1971</td>\n",
       "      <td>7.7</td>\n",
       "      <td>thriller</td>\n",
       "      <td>US</td>\n",
       "      <td>153463.0</td>\n",
       "      <td>102.0</td>\n",
       "    </tr>\n",
       "  </tbody>\n",
       "</table>\n",
       "</div>"
      ],
      "text/plain": [
       "                  TITLE  RELEASE_YEAR  SCORE MAIN_GENRE MAIN_PRODUCTION  \\\n",
       "0       White Christmas          1954    7.5    romance              US   \n",
       "1  The Guns of Navarone          1961    7.5        war              US   \n",
       "2          My Fair Lady          1964    7.8      drama              US   \n",
       "3      Bonnie and Clyde          1967    7.7      drama              US   \n",
       "4           Dirty Harry          1971    7.7   thriller              US   \n",
       "\n",
       "   NUMBER_OF_VOTES  DURATION  \n",
       "0          42373.0     115.0  \n",
       "1          50150.0     158.0  \n",
       "2          94121.0     170.0  \n",
       "3         111189.0     110.0  \n",
       "4         153463.0     102.0  "
      ]
     },
     "execution_count": 111,
     "metadata": {},
     "output_type": "execute_result"
    }
   ],
   "source": [
    "movies_year_with_duration.head()"
   ]
  },
  {
   "cell_type": "code",
   "execution_count": 140,
   "metadata": {},
   "outputs": [
    {
     "data": {
      "text/plain": [
       "Text(0.5, 1.0, 'Répartition des genres de films')"
      ]
     },
     "execution_count": 140,
     "metadata": {},
     "output_type": "execute_result"
    },
    {
     "data": {
      "image/png": "[encoded data removed]",
      "text/plain": [
       "<Figure size 1224x288 with 1 Axes>"
      ]
     },
     "metadata": {},
     "output_type": "display_data"
    }
   ],
   "source": [
    "plt.figure(figsize=(17,4))\n",
    "sns.scatterplot(data=movies_year_with_duration, x=\"SCORE\", y=\"NUMBER_OF_VOTES\", hue=\"MAIN_GENRE\", palette=\"flare\", s=75)\n",
    "plt.xlabel(\"Score IMDb\")\n",
    "plt.ylabel(\"Nombre de votes\")\n",
    "plt.title(\"Répartition des genres de films\")"
   ]
  },
  {
   "attachments": {},
   "cell_type": "markdown",
   "metadata": {},
   "source": [
    "## 2. Best show by year"
   ]
  },
  {
   "attachments": {},
   "cell_type": "markdown",
   "metadata": {},
   "source": [
    "### Questions"
   ]
  },
  {
   "attachments": {},
   "cell_type": "markdown",
   "metadata": {},
   "source": [
    "Maintenant on passe aux meilleures séries par année de sortie disponible sur la plateforme. \n",
    "\n",
    "Répondez via des graphiques avec Matplotlib ou Seaborn ou bien des analyses avec Pandas aux questions suivantes :\n",
    "- Quel est le genre de série le plus présent ?\n",
    "- Quel est la répartition des genres dans la liste des séries ?\n",
    "- Quel est la meilleure et la pire série en terme de note ?\n",
    "- Quelle est la note moyenne donnée ?\n",
    "- Quelle est la distribution des notes des séries ?\n",
    "- Quelle est le nombre moyen de saisons dans la liste ?\n",
    "- Mettez en place une répartition entre la note donnée et le nombre de saisons qu'on a\n",
    "\n",
    "QUESTIONS BONUS : \n",
    "- Quel est le réalisateur qui revient le plus dans la liste ?\n",
    "- Quel est l'acteur qui revient le plus dans la liste ?"
   ]
  },
  {
   "attachments": {},
   "cell_type": "markdown",
   "metadata": {},
   "source": [
    "### Réponses"
   ]
  },
  {
   "attachments": {},
   "cell_type": "markdown",
   "metadata": {},
   "source": [
    "Ce sera quasiment la même chose que dans la première partie, alors on va aller plus vite"
   ]
  },
  {
   "attachments": {},
   "cell_type": "markdown",
   "metadata": {},
   "source": [
    "- Le genre de série le plus présent et leurs répartitions ?"
   ]
  },
  {
   "cell_type": "code",
   "execution_count": 141,
   "metadata": {},
   "outputs": [
    {
     "data": {
      "text/plain": [
       "scifi          9\n",
       "comedy         8\n",
       "drama          8\n",
       "action         4\n",
       "documentary    1\n",
       "western        1\n",
       "Name: MAIN_GENRE, dtype: int64"
      ]
     },
     "execution_count": 141,
     "metadata": {},
     "output_type": "execute_result"
    }
   ],
   "source": [
    "shows_year[\"MAIN_GENRE\"].value_counts()"
   ]
  },
  {
   "attachments": {},
   "cell_type": "markdown",
   "metadata": {},
   "source": [
    "On trouve donc qu'ici c'est la Science Fiction qui est la plus présente, avec la répartition suivante"
   ]
  },
  {
   "cell_type": "code",
   "execution_count": 142,
   "metadata": {},
   "outputs": [
    {
     "data": {
      "text/plain": [
       "<AxesSubplot:title={'center':'Genre'}>"
      ]
     },
     "execution_count": 142,
     "metadata": {},
     "output_type": "execute_result"
    },
    {
     "data": {
      "image/png": "[encoded data removed]",
      "text/plain": [
       "<Figure size 576x432 with 1 Axes>"
      ]
     },
     "metadata": {},
     "output_type": "display_data"
    }
   ],
   "source": [
    "shows_year[\"MAIN_GENRE\"].value_counts().plot.pie(figsize=(8,6), title=\"Genre\", label='')"
   ]
  },
  {
   "attachments": {},
   "cell_type": "markdown",
   "metadata": {},
   "source": [
    "- La meilleure et la pire série en terme de notes ? ainsi que la note moyenne (et médiane)"
   ]
  },
  {
   "cell_type": "code",
   "execution_count": 143,
   "metadata": {},
   "outputs": [
    {
     "data": {
      "text/html": [
       "<div>\n",
       "<style scoped>\n",
       "    .dataframe tbody tr th:only-of-type {\n",
       "        vertical-align: middle;\n",
       "    }\n",
       "\n",
       "    .dataframe tbody tr th {\n",
       "        vertical-align: top;\n",
       "    }\n",
       "\n",
       "    .dataframe thead th {\n",
       "        text-align: right;\n",
       "    }\n",
       "</style>\n",
       "<table border=\"1\" class=\"dataframe\">\n",
       "  <thead>\n",
       "    <tr style=\"text-align: right;\">\n",
       "      <th></th>\n",
       "      <th>count</th>\n",
       "      <th>mean</th>\n",
       "      <th>std</th>\n",
       "      <th>min</th>\n",
       "      <th>25%</th>\n",
       "      <th>50%</th>\n",
       "      <th>75%</th>\n",
       "      <th>max</th>\n",
       "    </tr>\n",
       "  </thead>\n",
       "  <tbody>\n",
       "    <tr>\n",
       "      <th>RELEASE_YEAR</th>\n",
       "      <td>31.0</td>\n",
       "      <td>2005.645161</td>\n",
       "      <td>11.973717</td>\n",
       "      <td>1969.0</td>\n",
       "      <td>1999.5</td>\n",
       "      <td>2007.0</td>\n",
       "      <td>2014.50</td>\n",
       "      <td>2022.0</td>\n",
       "    </tr>\n",
       "    <tr>\n",
       "      <th>SCORE</th>\n",
       "      <td>31.0</td>\n",
       "      <td>8.606452</td>\n",
       "      <td>0.631894</td>\n",
       "      <td>6.7</td>\n",
       "      <td>8.5</td>\n",
       "      <td>8.8</td>\n",
       "      <td>8.95</td>\n",
       "      <td>9.5</td>\n",
       "    </tr>\n",
       "    <tr>\n",
       "      <th>NUMBER_OF_SEASONS</th>\n",
       "      <td>31.0</td>\n",
       "      <td>5.322581</td>\n",
       "      <td>4.174423</td>\n",
       "      <td>1.0</td>\n",
       "      <td>3.0</td>\n",
       "      <td>5.0</td>\n",
       "      <td>6.00</td>\n",
       "      <td>21.0</td>\n",
       "    </tr>\n",
       "  </tbody>\n",
       "</table>\n",
       "</div>"
      ],
      "text/plain": [
       "                   count         mean        std     min     25%     50%  \\\n",
       "RELEASE_YEAR        31.0  2005.645161  11.973717  1969.0  1999.5  2007.0   \n",
       "SCORE               31.0     8.606452   0.631894     6.7     8.5     8.8   \n",
       "NUMBER_OF_SEASONS   31.0     5.322581   4.174423     1.0     3.0     5.0   \n",
       "\n",
       "                       75%     max  \n",
       "RELEASE_YEAR       2014.50  2022.0  \n",
       "SCORE                 8.95     9.5  \n",
       "NUMBER_OF_SEASONS     6.00    21.0  "
      ]
     },
     "execution_count": 143,
     "metadata": {},
     "output_type": "execute_result"
    }
   ],
   "source": [
    "shows_year.describe().T"
   ]
  },
  {
   "attachments": {},
   "cell_type": "markdown",
   "metadata": {},
   "source": [
    "On trouve les informations suivantes sur les notes alors : \n",
    "- La pire note est 6.7\n",
    "- La meilleure note est 9.5\n",
    "- La note moyenne est de 8.6\n",
    "- La note médiane est de 8.8"
   ]
  },
  {
   "cell_type": "code",
   "execution_count": 145,
   "metadata": {},
   "outputs": [
    {
     "name": "stdout",
     "output_type": "stream",
     "text": [
      "La meilleure série est \"Breaking Bad\" et la pire est \"iCarly\"\n"
     ]
    }
   ],
   "source": [
    "max_note = shows_year.loc[shows_year[\"SCORE\"].idxmax(axis=0), 'TITLE']\n",
    "min_note = shows_year.loc[shows_year[\"SCORE\"].idxmin(axis=0), 'TITLE']\n",
    "\n",
    "print(f'La meilleure série est \"{max_note}\" et la pire est \"{min_note}\"')"
   ]
  },
  {
   "attachments": {},
   "cell_type": "markdown",
   "metadata": {},
   "source": [
    "On affiche maintenant la distribution des notes sur les séries présentent dans la liste"
   ]
  },
  {
   "cell_type": "code",
   "execution_count": 147,
   "metadata": {},
   "outputs": [
    {
     "data": {
      "text/plain": [
       "<AxesSubplot:title={'center':'Distribution des notes'}, ylabel='Frequency'>"
      ]
     },
     "execution_count": 147,
     "metadata": {},
     "output_type": "execute_result"
    },
    {
     "data": {
      "image/png": "[encoded data removed]",
      "text/plain": [
       "<Figure size 864x360 with 1 Axes>"
      ]
     },
     "metadata": {},
     "output_type": "display_data"
    }
   ],
   "source": [
    "shows_year[\"SCORE\"].plot.hist(figsize=(12,5), title=\"Distribution des notes\", label='', bins=20, xlabel='Notes', ylabel='')"
   ]
  },
  {
   "attachments": {},
   "cell_type": "markdown",
   "metadata": {},
   "source": [
    "- Nombre moyen de saison ? "
   ]
  },
  {
   "cell_type": "code",
   "execution_count": 148,
   "metadata": {},
   "outputs": [
    {
     "data": {
      "text/plain": [
       "5.32258064516129"
      ]
     },
     "execution_count": 148,
     "metadata": {},
     "output_type": "execute_result"
    }
   ],
   "source": [
    "shows_year[\"NUMBER_OF_SEASONS\"].mean()"
   ]
  },
  {
   "attachments": {},
   "cell_type": "markdown",
   "metadata": {},
   "source": [
    "Il est donc d'environ 5.3 saisons par série dans la liste"
   ]
  },
  {
   "cell_type": "code",
   "execution_count": 149,
   "metadata": {},
   "outputs": [
    {
     "data": {
      "text/plain": [
       "5.0"
      ]
     },
     "execution_count": 149,
     "metadata": {},
     "output_type": "execute_result"
    }
   ],
   "source": [
    "shows_year[\"NUMBER_OF_SEASONS\"].median()"
   ]
  },
  {
   "attachments": {},
   "cell_type": "markdown",
   "metadata": {},
   "source": [
    "Et la médiane est de 5 saisons donc ca reste cohérent"
   ]
  },
  {
   "attachments": {},
   "cell_type": "markdown",
   "metadata": {},
   "source": [
    "- Répartition entre la note donnée et le nombre de saison"
   ]
  },
  {
   "cell_type": "code",
   "execution_count": 150,
   "metadata": {},
   "outputs": [
    {
     "data": {
      "text/html": [
       "<div>\n",
       "<style scoped>\n",
       "    .dataframe tbody tr th:only-of-type {\n",
       "        vertical-align: middle;\n",
       "    }\n",
       "\n",
       "    .dataframe tbody tr th {\n",
       "        vertical-align: top;\n",
       "    }\n",
       "\n",
       "    .dataframe thead th {\n",
       "        text-align: right;\n",
       "    }\n",
       "</style>\n",
       "<table border=\"1\" class=\"dataframe\">\n",
       "  <thead>\n",
       "    <tr style=\"text-align: right;\">\n",
       "      <th></th>\n",
       "      <th>TITLE</th>\n",
       "      <th>RELEASE_YEAR</th>\n",
       "      <th>SCORE</th>\n",
       "      <th>NUMBER_OF_SEASONS</th>\n",
       "      <th>MAIN_GENRE</th>\n",
       "      <th>MAIN_PRODUCTION</th>\n",
       "    </tr>\n",
       "    <tr>\n",
       "      <th>index</th>\n",
       "      <th></th>\n",
       "      <th></th>\n",
       "      <th></th>\n",
       "      <th></th>\n",
       "      <th></th>\n",
       "      <th></th>\n",
       "    </tr>\n",
       "  </thead>\n",
       "  <tbody>\n",
       "    <tr>\n",
       "      <th>0</th>\n",
       "      <td>Monty Python's Flying Circus</td>\n",
       "      <td>1969</td>\n",
       "      <td>8.8</td>\n",
       "      <td>4</td>\n",
       "      <td>comedy</td>\n",
       "      <td>GB</td>\n",
       "    </tr>\n",
       "    <tr>\n",
       "      <th>1</th>\n",
       "      <td>Knight Rider</td>\n",
       "      <td>1982</td>\n",
       "      <td>6.9</td>\n",
       "      <td>4</td>\n",
       "      <td>action</td>\n",
       "      <td>US</td>\n",
       "    </tr>\n",
       "    <tr>\n",
       "      <th>2</th>\n",
       "      <td>Seinfeld</td>\n",
       "      <td>1989</td>\n",
       "      <td>8.9</td>\n",
       "      <td>9</td>\n",
       "      <td>comedy</td>\n",
       "      <td>US</td>\n",
       "    </tr>\n",
       "    <tr>\n",
       "      <th>3</th>\n",
       "      <td>Star Trek: Deep Space Nine</td>\n",
       "      <td>1993</td>\n",
       "      <td>8.1</td>\n",
       "      <td>7</td>\n",
       "      <td>scifi</td>\n",
       "      <td>US</td>\n",
       "    </tr>\n",
       "    <tr>\n",
       "      <th>4</th>\n",
       "      <td>Neon Genesis Evangelion</td>\n",
       "      <td>1995</td>\n",
       "      <td>8.5</td>\n",
       "      <td>1</td>\n",
       "      <td>scifi</td>\n",
       "      <td>JP</td>\n",
       "    </tr>\n",
       "  </tbody>\n",
       "</table>\n",
       "</div>"
      ],
      "text/plain": [
       "                              TITLE  RELEASE_YEAR  SCORE  NUMBER_OF_SEASONS  \\\n",
       "index                                                                         \n",
       "0      Monty Python's Flying Circus          1969    8.8                  4   \n",
       "1                      Knight Rider          1982    6.9                  4   \n",
       "2                          Seinfeld          1989    8.9                  9   \n",
       "3        Star Trek: Deep Space Nine          1993    8.1                  7   \n",
       "4           Neon Genesis Evangelion          1995    8.5                  1   \n",
       "\n",
       "      MAIN_GENRE MAIN_PRODUCTION  \n",
       "index                             \n",
       "0         comedy              GB  \n",
       "1         action              US  \n",
       "2         comedy              US  \n",
       "3          scifi              US  \n",
       "4          scifi              JP  "
      ]
     },
     "execution_count": 150,
     "metadata": {},
     "output_type": "execute_result"
    }
   ],
   "source": [
    "shows_year.head()"
   ]
  },
  {
   "cell_type": "code",
   "execution_count": 157,
   "metadata": {},
   "outputs": [
    {
     "data": {
      "image/png": "[encoded data removed]",
      "text/plain": [
       "<Figure size 1368x360 with 1 Axes>"
      ]
     },
     "metadata": {},
     "output_type": "display_data"
    }
   ],
   "source": [
    "plt.figure(figsize=(19,5))\n",
    "sns.scatterplot(data=shows_year, x=\"NUMBER_OF_SEASONS\", y=\"SCORE\", hue=\"MAIN_GENRE\", s=50)\n",
    "plt.xticks(ticks=np.arange(0,22))\n",
    "plt.title(\"Distribution des notes par rapport au nombre de saisons\")\n",
    "plt.show()"
   ]
  },
  {
   "attachments": {},
   "cell_type": "markdown",
   "metadata": {},
   "source": [
    "QUESTIONS BONUS"
   ]
  },
  {
   "attachments": {},
   "cell_type": "markdown",
   "metadata": {},
   "source": [
    "Essayer de le faire tout seul (c'est la même chose que la partie précédente)"
   ]
  },
  {
   "attachments": {},
   "cell_type": "markdown",
   "metadata": {},
   "source": [
    "## 3. Best movies"
   ]
  },
  {
   "attachments": {},
   "cell_type": "markdown",
   "metadata": {},
   "source": [
    "### Questions"
   ]
  },
  {
   "attachments": {},
   "cell_type": "markdown",
   "metadata": {},
   "source": [
    "Maintenant on va passer à l'analyse de tous les films qui ont eu, au moins, une note de 7.5 sur IMDb.\n",
    "\n",
    "Répondez via des graphiques avec Matplotlib ou Seaborn ou bien des analyses avec Pandas aux questions suivantes :\n",
    "- Quelle est l'année qui est la plus présente ? Et donnez une distribution (ou répartition) en nombre d'apparition\n",
    "- Quel est le genre qui revient le plus souvent ? Et donnez une distribution (ou répartition) en nombre d'apparition\n",
    "- Quelle est la production la plus recurente ?\n",
    "- Quelle est la durée moyenne d'un film dans la liste ?\n",
    "- Quel est le film le plus long et le plus court de la liste ?\n",
    "- Affichez une distribution regroupant les notes données, le nombre de votes et le genre du film. A priori quel est le meilleur genre de film ?\n",
    "- Quelle est la variable la plus corrélée avec la note donnée ?  \n",
    "- Quel est l'acteur (ou l'actrice) qui revient le plus souvent dans les crédits ?\n",
    "- Quel est le réalisateur (ou réalisatrice) qui revient le plus souvent dans les crédits ?\n",
    "\n",
    "QUESTIONS BONUS : \n",
    "- Quel est l'acteur avec les films avec la note moyenne la plus haute ? \n",
    "- Quel est le réalisateur avec les films avec la note moyenne la plus haute ?"
   ]
  },
  {
   "attachments": {},
   "cell_type": "markdown",
   "metadata": {},
   "source": [
    "### Réponses"
   ]
  },
  {
   "cell_type": "code",
   "execution_count": null,
   "metadata": {},
   "outputs": [],
   "source": []
  },
  {
   "attachments": {},
   "cell_type": "markdown",
   "metadata": {},
   "source": [
    "## 4. Best shows"
   ]
  },
  {
   "attachments": {},
   "cell_type": "markdown",
   "metadata": {},
   "source": [
    "### Questions"
   ]
  },
  {
   "attachments": {},
   "cell_type": "markdown",
   "metadata": {},
   "source": [
    "Maintenant on va passer à l'analyse de toutes les séries qui ont eu, au moins, une note de 7.5 sur IMDb.\n",
    "\n",
    "Répondez via des graphiques avec Matplotlib ou Seaborn ou bien des analyses avec Pandas aux questions suivantes :\n",
    "- Quelle est l'année qui est la plus présente ? Et donnez une distribution (ou répartition) en nombre d'apparition\n",
    "- Quel est le genre qui revient le plus souvent ? Et donnez une distribution (ou répartition) en nombre d'apparition\n",
    "- Quelle est la production la plus recurente ?\n",
    "- Quelle est la durée moyenne d'un épisode de la série dans la liste ?\n",
    "- Quelle est la série avec le plus de saisons (ou les séries) ?\n",
    "- Affichez une distribution regroupant les notes données, le nombre de votes et le genre de la série. A priori quel est le meilleur genre de série ?\n",
    "- Quelle est la variable la plus corrélée avec la note donnée ?  \n",
    "- Quel est l'acteur (ou l'actrice) qui revient le plus souvent dans les crédits ?\n",
    "- Quel est le réalisateur (ou réalisatrice) qui revient le plus souvent dans les crédits ?\n",
    "\n",
    "QUESTIONS BONUS : \n",
    "- Quel est l'acteur avec les films avec la note moyenne la plus haute ? \n",
    "- Quel est le réalisateur avec les films avec la note moyenne la plus haute ?"
   ]
  },
  {
   "attachments": {},
   "cell_type": "markdown",
   "metadata": {},
   "source": [
    "### Réponses"
   ]
  },
  {
   "cell_type": "code",
   "execution_count": null,
   "metadata": {},
   "outputs": [],
   "source": []
  }
 ],
 "metadata": {
  "kernelspec": {
   "display_name": "base",
   "language": "python",
   "name": "python3"
  },
  "language_info": {
   "codemirror_mode": {
    "name": "ipython",
    "version": 3
   },
   "file_extension": ".py",
   "mimetype": "text/x-python",
   "name": "python",
   "nbconvert_exporter": "python",
   "pygments_lexer": "ipython3",
   "version": "3.8.13"
  },
  "orig_nbformat": 4,
  "vscode": {
   "interpreter": {
    "hash": "631af202ec7c40e141c49d63cac6c8cb664469fed6e4d5ddc6436b49edc60500"
   }
  }
 },
 "nbformat": 4,
 "nbformat_minor": 2
}
