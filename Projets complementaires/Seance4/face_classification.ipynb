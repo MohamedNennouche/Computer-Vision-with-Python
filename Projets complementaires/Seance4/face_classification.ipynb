{
 "cells": [
  {
   "cell_type": "markdown",
   "metadata": {},
   "source": [
    "## Objectifs du notebook"
   ]
  },
  {
   "cell_type": "markdown",
   "metadata": {},
   "source": [
    "L'objectif de ce notebook est de parvenir à créer un modèle de classification des visages. Vous avez à votre disposition le dossier yalefacesgif. Ce dataset regroupe en tout 15 sujets différents avec chacun 11 images, votre objectif est de prendre une partie de ces données et de procéder à une reconnaissance du reste utilisant le HoG comme descripteur suivi du classifieur de votre choix au sein de Scikit-learn. \n",
    "\n",
    "En clair vos objectifs c'est : \n",
    "- Prendre en main le jeux de données donné \n",
    "- Lire les images de chaque classes\n",
    "- Faites un pré-traitement des images\n",
    "- Appliquer le HoG sur les images et extraire le vecteur caractéristiques de ces dernières\n",
    "- Procéder à la classification des images via le modèle de votre choix au sein de scikit-learn\n",
    "- Evaluer les performances du (ou des) modèle(s) proposé(s)"
   ]
  },
  {
   "cell_type": "code",
   "execution_count": null,
   "metadata": {},
   "outputs": [],
   "source": [
    "import cv2 as cv\n",
    "import numpy as np\n",
    "import seaborn as sns \n",
    "sns.set_theme(style=\"darkgrid\")\n",
    "import matplotlib.pyplot as plt\n",
    "\n",
    "from sklearn.model_selection import learning_curve\n",
    "from sklearn.model_selection import GridSearchCV\n",
    "from sklearn import metrics\n",
    "\n",
    "from skimage.feature import hog "
   ]
  },
  {
   "cell_type": "markdown",
   "metadata": {},
   "source": [
    "## Importation des modèles de classification"
   ]
  },
  {
   "cell_type": "markdown",
   "metadata": {},
   "source": [
    "Importez les modèles que vous voulez utiliser dans ce challenge à partir de scikit-learn"
   ]
  },
  {
   "cell_type": "code",
   "execution_count": null,
   "metadata": {},
   "outputs": [],
   "source": []
  },
  {
   "cell_type": "markdown",
   "metadata": {},
   "source": [
    "## Lecture des images"
   ]
  },
  {
   "cell_type": "markdown",
   "metadata": {},
   "source": [
    "Créer une fonction permettant la lecture des images ainsi que la création d'un liste contenant le label (subject-1, subject-2, etc.)"
   ]
  },
  {
   "cell_type": "code",
   "execution_count": null,
   "metadata": {},
   "outputs": [],
   "source": []
  },
  {
   "cell_type": "markdown",
   "metadata": {},
   "source": [
    "## Appliquer un filtre Gaussien sur les images"
   ]
  },
  {
   "cell_type": "markdown",
   "metadata": {},
   "source": [
    "Utilisant OpenCV appliquez un filtre gaussien sur les images du jeux de données proposé"
   ]
  },
  {
   "cell_type": "code",
   "execution_count": null,
   "metadata": {},
   "outputs": [],
   "source": []
  },
  {
   "cell_type": "markdown",
   "metadata": {},
   "source": [
    "## Redimensionner les images à une taille de 128 x 64"
   ]
  },
  {
   "cell_type": "markdown",
   "metadata": {},
   "source": [
    "Utilisant OpenCV créez une fonction permettant le redimensionnement des images de votre jeux de données"
   ]
  },
  {
   "cell_type": "code",
   "execution_count": null,
   "metadata": {},
   "outputs": [],
   "source": []
  },
  {
   "cell_type": "markdown",
   "metadata": {},
   "source": [
    "## Appliquez le HoG"
   ]
  },
  {
   "cell_type": "markdown",
   "metadata": {},
   "source": [
    "Utilisant scikit-image appliquez le HoG sur toutes les images de votre jeux de données et extrayez les vecteurs caractéristiques. Donnez la taille de ces vecteurs"
   ]
  },
  {
   "cell_type": "code",
   "execution_count": null,
   "metadata": {},
   "outputs": [],
   "source": []
  },
  {
   "cell_type": "markdown",
   "metadata": {},
   "source": [
    "## Créer les ensembles d'entrainement et de test"
   ]
  },
  {
   "cell_type": "markdown",
   "metadata": {},
   "source": [
    "Subdivisez le jeux de données en deux ensembles, un jeux de données d'entrainement ainsi qu'un jeux de données de test (en subdivisant de la même manière les labels évidemment). Mettez 60% du jeux de données pour l'entrainement. \n",
    "\n",
    "Remarque : Assurez vous d'avoir le même nombre d'images d'entrainement pour tous les sujets"
   ]
  },
  {
   "cell_type": "code",
   "execution_count": null,
   "metadata": {},
   "outputs": [],
   "source": []
  },
  {
   "cell_type": "markdown",
   "metadata": {},
   "source": [
    "## Classification"
   ]
  },
  {
   "cell_type": "markdown",
   "metadata": {},
   "source": [
    "Utilisant le(s) modèle(s) que vous avez sélectionné, mettez en place un classifieur réussissant à différencier les différents sujets de ce jeux de données. \n",
    "\n",
    "Utilisez GridSearchCV pour sélectionner les paramètres optimaux pour la classification"
   ]
  },
  {
   "cell_type": "code",
   "execution_count": null,
   "metadata": {},
   "outputs": [],
   "source": []
  },
  {
   "cell_type": "markdown",
   "metadata": {},
   "source": [
    "## Evaluation du modèle"
   ]
  },
  {
   "cell_type": "markdown",
   "metadata": {},
   "source": [
    "Pour l'évaluation du modèles veuillez afficher : \n",
    "- La courbe d'apprentissage (learning curve)\n",
    "- L'accuracy\n",
    "- La matrixe de confusion\n",
    "\n",
    "Commentez les résultats obtenus"
   ]
  },
  {
   "cell_type": "code",
   "execution_count": null,
   "metadata": {},
   "outputs": [],
   "source": []
  }
 ],
 "metadata": {
  "language_info": {
   "name": "python"
  }
 },
 "nbformat": 4,
 "nbformat_minor": 2
}
