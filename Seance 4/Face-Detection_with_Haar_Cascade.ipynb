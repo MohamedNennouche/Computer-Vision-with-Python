{
 "cells": [
  {
   "cell_type": "markdown",
   "metadata": {},
   "source": [
    "Haar Cascade (Cascade Classifier) is an Object Detection Algorithm used to identify faces in an image or a real time video. The algorithm uses edge or line detection features proposed by Viola and Jones in their research paper “Rapid Object Detection using a Boosted Cascade of Simple Features” published in 2001. The algorithm is given a lot of positive images consisting of faces, and a lot of negative images not consisting of any face to train on them."
   ]
  },
  {
   "cell_type": "code",
   "execution_count": 1,
   "metadata": {},
   "outputs": [],
   "source": [
    "# Importing libraries\n",
    "\n",
    "import numpy as np\n",
    "import cv2 as cv \n",
    "from PIL import Image\n",
    "import time "
   ]
  },
  {
   "cell_type": "code",
   "execution_count": 2,
   "metadata": {},
   "outputs": [],
   "source": [
    "# Cascade Clissifier\n",
    "\n",
    "face_casc = cv.CascadeClassifier('haarcascade_frontalface_alt2.xml')  # it detects only frontal face"
   ]
  },
  {
   "cell_type": "code",
   "execution_count": 4,
   "metadata": {},
   "outputs": [],
   "source": [
    "# Face detection in a Video Capture\n",
    "\n",
    "cap = cv.VideoCapture(0)   # 0 for laptop camera\n",
    "if not cap.isOpened():\n",
    "    print(\"Cam not workiiiing\")\n",
    "    exit()\n",
    "while True:\n",
    "    ret, frame = cap.read()\n",
    "    if not ret:\n",
    "        print(\"Can't receive frame, khata2\")\n",
    "        break\n",
    "    gray = cv.cvtColor(frame, cv.COLOR_BGR2GRAY)   # This kind of cascade classifier works only on gray images\n",
    "    faces= face_casc.detectMultiScale(gray, scaleFactor=1.5, minNeighbors=5)\n",
    "    for(x,y,w,h) in faces : \n",
    "        cv.rectangle(frame,(x,y),(x+w, y+h), (255,0,0))   # recadrer le visage\n",
    "        cv.imshow('frame', frame)\n",
    "        \n",
    "    if cv.waitKey(1) == ord('q'):\n",
    "        break\n",
    "\n",
    "cap.release()\n",
    "cv.destroyAllWindows()"
   ]
  }
 ],
 "metadata": {
  "kernelspec": {
   "display_name": "Python 3.9.12 ('base')",
   "language": "python",
   "name": "python3"
  },
  "language_info": {
   "codemirror_mode": {
    "name": "ipython",
    "version": 3
   },
   "file_extension": ".py",
   "mimetype": "text/x-python",
   "name": "python",
   "nbconvert_exporter": "python",
   "pygments_lexer": "ipython3",
   "version": "3.9.12"
  },
  "orig_nbformat": 4,
  "vscode": {
   "interpreter": {
    "hash": "9465493d991c10192be70692998c1f839aa44a98ea441dac77f59407aba251ff"
   }
  }
 },
 "nbformat": 4,
 "nbformat_minor": 2
}
