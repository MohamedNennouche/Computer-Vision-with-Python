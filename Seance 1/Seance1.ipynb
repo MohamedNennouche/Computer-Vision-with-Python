{
 "cells": [
  {
   "attachments": {},
   "cell_type": "markdown",
   "metadata": {},
   "source": [
    "# Formation : Computer Vision with Python\n",
    "## Séance 1 : Introduction to Python langage\n",
    "### Auteur : Nennouche Mohamed\n",
    "### Date : 22/02/2023\n",
    "### Contenu du notebook :\n",
    "On va aborder dans ce notebook une rapide introduction au langage Python et voir en globalité ses principales caractéristiques par rapport aux autres langages comme le C et C++ par exemple. On aura donc le contenu suivant : \n",
    "- Hello world avec Python \n",
    "- Variable et typage\n",
    "- Opérations arithmétiques et logiques\n",
    "- Conditions \n",
    "- Boucles \n",
    "- Fonctions \n",
    "- Structures de données : \n",
    "    - Listes\n",
    "    - Dictionnaires\n",
    "    - Tuples\n",
    "    - Set \n",
    "- Classes "
   ]
  },
  {
   "cell_type": "markdown",
   "metadata": {},
   "source": [
    "### 1. Hello world with Python"
   ]
  },
  {
   "cell_type": "code",
   "execution_count": 1,
   "metadata": {},
   "outputs": [
    {
     "name": "stdout",
     "output_type": "stream",
     "text": [
      "hello world\n"
     ]
    }
   ],
   "source": [
    "print(\"hello world\")"
   ]
  },
  {
   "cell_type": "markdown",
   "metadata": {},
   "source": [
    "### 2. Variable et typage"
   ]
  },
  {
   "cell_type": "code",
   "execution_count": 2,
   "metadata": {},
   "outputs": [
    {
     "name": "stdout",
     "output_type": "stream",
     "text": [
      "3\n",
      "Salut tout le monde\n"
     ]
    }
   ],
   "source": [
    "a = 3\n",
    "print(a)\n",
    "a = \"Salut tout le monde\"\n",
    "print(a)"
   ]
  },
  {
   "cell_type": "code",
   "execution_count": 6,
   "metadata": {},
   "outputs": [
    {
     "name": "stdout",
     "output_type": "stream",
     "text": [
      "7\n"
     ]
    }
   ],
   "source": [
    "a = input(\"Veuillez entrer un nombre svp\")\n",
    "print(int(a)+3) # Important les typage"
   ]
  },
  {
   "cell_type": "markdown",
   "metadata": {},
   "source": [
    "### 3. Opérations arithmétiques et logiques"
   ]
  },
  {
   "cell_type": "code",
   "execution_count": 7,
   "metadata": {},
   "outputs": [
    {
     "name": "stdout",
     "output_type": "stream",
     "text": [
      "a + b = 8\n",
      "a - b = -2\n",
      "a * b = 15\n",
      "a / b = 0.6\n",
      "a % b = 3\n"
     ]
    }
   ],
   "source": [
    "a = 3\n",
    "b = 5\n",
    "print(\"a + b =\",a+b)\n",
    "print(\"a - b =\",a-b)\n",
    "print(\"a * b =\",a*b)\n",
    "print(\"a / b =\",a/b)\n",
    "print(\"a % b =\",a%b)"
   ]
  },
  {
   "cell_type": "markdown",
   "metadata": {},
   "source": [
    "Opérateurs logiques :\n",
    "- ==\n",
    "- \\>\n",
    "- \\>=\n",
    "- <\n",
    "- <=\n",
    "- !="
   ]
  },
  {
   "cell_type": "code",
   "execution_count": 8,
   "metadata": {},
   "outputs": [
    {
     "name": "stdout",
     "output_type": "stream",
     "text": [
      "False\n",
      "True\n",
      "False\n"
     ]
    }
   ],
   "source": [
    "print(a == 3 and b == 4)\n",
    "print(a == 3 or b == 4)\n",
    "print(not(a == 3 or b == 4))"
   ]
  },
  {
   "cell_type": "markdown",
   "metadata": {},
   "source": [
    "### 4. Conditions"
   ]
  },
  {
   "cell_type": "code",
   "execution_count": 9,
   "metadata": {},
   "outputs": [
    {
     "name": "stdout",
     "output_type": "stream",
     "text": [
      "Je suis trois\n"
     ]
    }
   ],
   "source": [
    "a = 3\n",
    "b = 4 \n",
    "if a == 3 : \n",
    "    print(\"Je suis trois\")\n",
    "elif b == 4 :\n",
    "    print(\"Je suis aussi quatre\")\n",
    "else : \n",
    "    print(\"Je suis rien\")"
   ]
  },
  {
   "cell_type": "markdown",
   "metadata": {},
   "source": [
    "### 5. Boucles"
   ]
  },
  {
   "attachments": {},
   "cell_type": "markdown",
   "metadata": {},
   "source": [
    "#### a. Boucle for"
   ]
  },
  {
   "attachments": {},
   "cell_type": "markdown",
   "metadata": {},
   "source": [
    "Ca peut être avec des nombres"
   ]
  },
  {
   "cell_type": "code",
   "execution_count": 10,
   "metadata": {},
   "outputs": [
    {
     "name": "stdout",
     "output_type": "stream",
     "text": [
      "1\n",
      "3\n",
      "4\n",
      "5\n"
     ]
    }
   ],
   "source": [
    "for i in [1,3,4,5] :\n",
    "    print(i)"
   ]
  },
  {
   "attachments": {},
   "cell_type": "markdown",
   "metadata": {},
   "source": [
    "Ou bien avec des chaînes de caractères"
   ]
  },
  {
   "cell_type": "code",
   "execution_count": 11,
   "metadata": {},
   "outputs": [
    {
     "name": "stdout",
     "output_type": "stream",
     "text": [
      "Mohamed\n",
      "Maroua\n",
      "IEEE\n",
      "ENP\n"
     ]
    }
   ],
   "source": [
    "for i in ('Mohamed', 'Maroua', 'IEEE', 'ENP') :\n",
    "    print(i)"
   ]
  },
  {
   "attachments": {},
   "cell_type": "markdown",
   "metadata": {},
   "source": [
    "Ou un mélange des deux"
   ]
  },
  {
   "cell_type": "code",
   "execution_count": 12,
   "metadata": {},
   "outputs": [
    {
     "name": "stdout",
     "output_type": "stream",
     "text": [
      "Mohamed\n",
      "4\n",
      "1\n",
      "ENP\n"
     ]
    }
   ],
   "source": [
    "for i in ('Mohamed', 4, 1, 'ENP') :\n",
    "    print(i)"
   ]
  },
  {
   "attachments": {},
   "cell_type": "markdown",
   "metadata": {},
   "source": [
    "On peut aussi itérer dans plusieurs variables à la fois"
   ]
  },
  {
   "cell_type": "code",
   "execution_count": 15,
   "metadata": {},
   "outputs": [
    {
     "name": "stdout",
     "output_type": "stream",
     "text": [
      "Mohamed est un garçon\n",
      "Maroi est une fille\n",
      "IEEE est un club\n"
     ]
    }
   ],
   "source": [
    "iterateur = [\n",
    "    ('Mohamed','un garçon'), \n",
    "    ('Maroi','une fille'), \n",
    "    ('IEEE','un club')\n",
    "]\n",
    "\n",
    "for i,j in iterateur :\n",
    "    print(i, \"est\",j)"
   ]
  },
  {
   "attachments": {},
   "cell_type": "markdown",
   "metadata": {},
   "source": [
    "#### b. Boucle while"
   ]
  },
  {
   "cell_type": "code",
   "execution_count": 16,
   "metadata": {},
   "outputs": [
    {
     "name": "stdout",
     "output_type": "stream",
     "text": [
      "Je suis positif 4\n",
      "Je suis positif 3\n",
      "Je suis positif 2\n",
      "Je suis positif 1\n",
      "Je suis nul\n"
     ]
    }
   ],
   "source": [
    "a = 4 \n",
    "while a > 0 : \n",
    "    print(\"Je suis positif\",a)\n",
    "    a -= 1\n",
    "print(\"Je suis nul\")"
   ]
  },
  {
   "cell_type": "markdown",
   "metadata": {},
   "source": [
    "### 6. Fonctions"
   ]
  },
  {
   "cell_type": "markdown",
   "metadata": {},
   "source": [
    "Fonction avec retour"
   ]
  },
  {
   "cell_type": "code",
   "execution_count": 17,
   "metadata": {},
   "outputs": [
    {
     "name": "stdout",
     "output_type": "stream",
     "text": [
      "7\n"
     ]
    }
   ],
   "source": [
    "def mafonction(a,b) :\n",
    "    return a+b \n",
    "\n",
    "c = mafonction(3,4)\n",
    "print(c)"
   ]
  },
  {
   "cell_type": "markdown",
   "metadata": {},
   "source": [
    "Fonction sans retour"
   ]
  },
  {
   "cell_type": "code",
   "execution_count": 18,
   "metadata": {},
   "outputs": [
    {
     "name": "stdout",
     "output_type": "stream",
     "text": [
      "a = 3  b = 5\n"
     ]
    }
   ],
   "source": [
    "def monautrefonction(a,b) :\n",
    "    print(\"a =\",a,\" b =\",b)\n",
    "\n",
    "monautrefonction(3,5)"
   ]
  },
  {
   "cell_type": "markdown",
   "metadata": {},
   "source": [
    "### 7. Structure de données"
   ]
  },
  {
   "cell_type": "markdown",
   "metadata": {},
   "source": [
    "#### a) Listes"
   ]
  },
  {
   "cell_type": "markdown",
   "metadata": {},
   "source": [
    "- Initialisation"
   ]
  },
  {
   "cell_type": "code",
   "execution_count": 19,
   "metadata": {},
   "outputs": [
    {
     "name": "stdout",
     "output_type": "stream",
     "text": [
      "[[2, 3], [5, 9], [1, 0]]\n"
     ]
    }
   ],
   "source": [
    "liste_vide = list()\n",
    "liste_nonvide = [3, 4, 5]\n",
    "liste_multi = [[2,3], [5,9], [1,0]]\n",
    "print(liste_multi)"
   ]
  },
  {
   "cell_type": "markdown",
   "metadata": {},
   "source": [
    "- Indexation"
   ]
  },
  {
   "cell_type": "code",
   "execution_count": 20,
   "metadata": {},
   "outputs": [
    {
     "data": {
      "text/plain": [
       "5"
      ]
     },
     "execution_count": 20,
     "metadata": {},
     "output_type": "execute_result"
    }
   ],
   "source": [
    "liste_nonvide[2]"
   ]
  },
  {
   "attachments": {},
   "cell_type": "markdown",
   "metadata": {},
   "source": [
    "- Ajout d'un élément (à la fin)"
   ]
  },
  {
   "cell_type": "code",
   "execution_count": 21,
   "metadata": {},
   "outputs": [
    {
     "name": "stdout",
     "output_type": "stream",
     "text": [
      "[5]\n",
      "[3, 4, 5, 'Salut']\n"
     ]
    }
   ],
   "source": [
    "liste_vide.append(5) \n",
    "liste_nonvide.append(\"Salut\") # On peut ajouter des éléments hétérogène\n",
    "print(liste_vide)\n",
    "print(liste_nonvide)"
   ]
  },
  {
   "attachments": {},
   "cell_type": "markdown",
   "metadata": {},
   "source": [
    "- Ajout d'un élément (avant un certain index)"
   ]
  },
  {
   "cell_type": "code",
   "execution_count": 23,
   "metadata": {},
   "outputs": [
    {
     "name": "stdout",
     "output_type": "stream",
     "text": [
      "[3, 4, 4, 5, 'Salut']\n"
     ]
    }
   ],
   "source": [
    "liste_nonvide.insert(2, 4) # index, valeur \n",
    "print(liste_nonvide)"
   ]
  },
  {
   "cell_type": "markdown",
   "metadata": {},
   "source": [
    "- Suppression d'un élément"
   ]
  },
  {
   "cell_type": "code",
   "execution_count": 24,
   "metadata": {},
   "outputs": [
    {
     "data": {
      "text/plain": [
       "[[5, 9], [1, 0]]"
      ]
     },
     "execution_count": 24,
     "metadata": {},
     "output_type": "execute_result"
    }
   ],
   "source": [
    "liste_multi.pop(0) # sans indice c'est le dernier\n",
    "liste_multi"
   ]
  },
  {
   "cell_type": "markdown",
   "metadata": {},
   "source": [
    "- Notion supplémentaire : list comprehension"
   ]
  },
  {
   "cell_type": "code",
   "execution_count": 25,
   "metadata": {},
   "outputs": [
    {
     "ename": "TypeError",
     "evalue": "can only concatenate list (not \"int\") to list",
     "output_type": "error",
     "traceback": [
      "\u001b[1;31m---------------------------------------------------------------------------\u001b[0m",
      "\u001b[1;31mTypeError\u001b[0m                                 Traceback (most recent call last)",
      "\u001b[1;32mc:\\Users\\pc\\OneDrive\\Bureau\\Computer Vision with Python\\Seance 1\\Seance1.ipynb Cellule 43\u001b[0m in \u001b[0;36m<cell line: 2>\u001b[1;34m()\u001b[0m\n\u001b[0;32m      <a href='vscode-notebook-cell:/c%3A/Users/pc/OneDrive/Bureau/Computer%20Vision%20with%20Python/Seance%201/Seance1.ipynb#X43sZmlsZQ%3D%3D?line=0'>1</a>\u001b[0m a \u001b[39m=\u001b[39m [\u001b[39m3\u001b[39m, \u001b[39m5\u001b[39m, \u001b[39m6\u001b[39m, \u001b[39m8\u001b[39m, \u001b[39m10\u001b[39m]\n\u001b[1;32m----> <a href='vscode-notebook-cell:/c%3A/Users/pc/OneDrive/Bureau/Computer%20Vision%20with%20Python/Seance%201/Seance1.ipynb#X43sZmlsZQ%3D%3D?line=1'>2</a>\u001b[0m b \u001b[39m=\u001b[39m a\u001b[39m+\u001b[39;49m\u001b[39m2\u001b[39;49m\n\u001b[0;32m      <a href='vscode-notebook-cell:/c%3A/Users/pc/OneDrive/Bureau/Computer%20Vision%20with%20Python/Seance%201/Seance1.ipynb#X43sZmlsZQ%3D%3D?line=2'>3</a>\u001b[0m \u001b[39mprint\u001b[39m(b)\n",
      "\u001b[1;31mTypeError\u001b[0m: can only concatenate list (not \"int\") to list"
     ]
    }
   ],
   "source": [
    "a = [3, 5, 6, 8, 10]\n",
    "b = a+2\n",
    "print(b)"
   ]
  },
  {
   "cell_type": "code",
   "execution_count": 26,
   "metadata": {},
   "outputs": [
    {
     "name": "stdout",
     "output_type": "stream",
     "text": [
      "[5, 7, 8, 10, 12]\n"
     ]
    }
   ],
   "source": [
    "b = [x+2 for x in a ]\n",
    "print(b)"
   ]
  },
  {
   "cell_type": "markdown",
   "metadata": {},
   "source": [
    "#### b) Dictionnaires"
   ]
  },
  {
   "cell_type": "markdown",
   "metadata": {},
   "source": [
    "- Initialisation"
   ]
  },
  {
   "cell_type": "code",
   "execution_count": 27,
   "metadata": {},
   "outputs": [
    {
     "data": {
      "text/plain": [
       "{'key1': 3, 'key2': 5}"
      ]
     },
     "execution_count": 27,
     "metadata": {},
     "output_type": "execute_result"
    }
   ],
   "source": [
    "dict_vide = dict()\n",
    "dict_nonvide = {\"key1\" : 3, \"key2\" : 5}\n",
    "dict_nonvide"
   ]
  },
  {
   "cell_type": "markdown",
   "metadata": {},
   "source": [
    "- Indexation"
   ]
  },
  {
   "cell_type": "code",
   "execution_count": 28,
   "metadata": {},
   "outputs": [
    {
     "data": {
      "text/plain": [
       "dict_keys(['key1', 'key2'])"
      ]
     },
     "execution_count": 28,
     "metadata": {},
     "output_type": "execute_result"
    }
   ],
   "source": [
    "dict_nonvide.keys()"
   ]
  },
  {
   "cell_type": "code",
   "execution_count": 29,
   "metadata": {},
   "outputs": [
    {
     "data": {
      "text/plain": [
       "dict_values([3, 5])"
      ]
     },
     "execution_count": 29,
     "metadata": {},
     "output_type": "execute_result"
    }
   ],
   "source": [
    "dict_nonvide.values()"
   ]
  },
  {
   "cell_type": "code",
   "execution_count": 30,
   "metadata": {},
   "outputs": [
    {
     "data": {
      "text/plain": [
       "dict_items([('key1', 3), ('key2', 5)])"
      ]
     },
     "execution_count": 30,
     "metadata": {},
     "output_type": "execute_result"
    }
   ],
   "source": [
    "dict_nonvide.items()"
   ]
  },
  {
   "cell_type": "code",
   "execution_count": 31,
   "metadata": {},
   "outputs": [
    {
     "data": {
      "text/plain": [
       "3"
      ]
     },
     "execution_count": 31,
     "metadata": {},
     "output_type": "execute_result"
    }
   ],
   "source": [
    "dict_nonvide[\"key1\"]"
   ]
  },
  {
   "cell_type": "markdown",
   "metadata": {},
   "source": [
    "- Ajout d'un élément"
   ]
  },
  {
   "cell_type": "code",
   "execution_count": 32,
   "metadata": {},
   "outputs": [
    {
     "data": {
      "text/plain": [
       "{'keysup': 5}"
      ]
     },
     "execution_count": 32,
     "metadata": {},
     "output_type": "execute_result"
    }
   ],
   "source": [
    "dict_vide[\"keysup\"] = 5\n",
    "dict_vide"
   ]
  },
  {
   "cell_type": "markdown",
   "metadata": {},
   "source": [
    "- Suppression d'un élément"
   ]
  },
  {
   "cell_type": "code",
   "execution_count": 33,
   "metadata": {},
   "outputs": [
    {
     "ename": "TypeError",
     "evalue": "pop expected at least 1 argument, got 0",
     "output_type": "error",
     "traceback": [
      "\u001b[1;31m---------------------------------------------------------------------------\u001b[0m",
      "\u001b[1;31mTypeError\u001b[0m                                 Traceback (most recent call last)",
      "\u001b[1;32mc:\\Users\\pc\\OneDrive\\Bureau\\Computer Vision with Python\\Seance 1\\Seance1.ipynb Cellule 56\u001b[0m in \u001b[0;36m<cell line: 1>\u001b[1;34m()\u001b[0m\n\u001b[1;32m----> <a href='vscode-notebook-cell:/c%3A/Users/pc/OneDrive/Bureau/Computer%20Vision%20with%20Python/Seance%201/Seance1.ipynb#X62sZmlsZQ%3D%3D?line=0'>1</a>\u001b[0m dict_nonvide\u001b[39m.\u001b[39;49mpop()\n",
      "\u001b[1;31mTypeError\u001b[0m: pop expected at least 1 argument, got 0"
     ]
    }
   ],
   "source": [
    "dict_nonvide.pop()"
   ]
  },
  {
   "cell_type": "markdown",
   "metadata": {},
   "source": [
    "Comme dit plus tôt ce n'est pas ordonné donc il ne sait pas c'est quoi le dernier élément (on peut enlever le dernier entré avec popitem)"
   ]
  },
  {
   "cell_type": "code",
   "execution_count": 34,
   "metadata": {},
   "outputs": [
    {
     "data": {
      "text/plain": [
       "3"
      ]
     },
     "execution_count": 34,
     "metadata": {},
     "output_type": "execute_result"
    }
   ],
   "source": [
    "dict_nonvide.pop(\"key1\")"
   ]
  },
  {
   "cell_type": "code",
   "execution_count": 35,
   "metadata": {},
   "outputs": [
    {
     "data": {
      "text/plain": [
       "{'key2': 5}"
      ]
     },
     "execution_count": 35,
     "metadata": {},
     "output_type": "execute_result"
    }
   ],
   "source": [
    "dict_nonvide"
   ]
  },
  {
   "cell_type": "markdown",
   "metadata": {},
   "source": [
    "#### c) Tuples"
   ]
  },
  {
   "cell_type": "markdown",
   "metadata": {},
   "source": [
    "- Initialisation"
   ]
  },
  {
   "cell_type": "code",
   "execution_count": 36,
   "metadata": {},
   "outputs": [
    {
     "name": "stdout",
     "output_type": "stream",
     "text": [
      "(2, 4, 5, 7)\n"
     ]
    }
   ],
   "source": [
    "# Vide existe pas psk c'est immuable et donc faut directement initialiser avec les éléments\n",
    "montuple = (2,4,5,7)\n",
    "print(montuple)"
   ]
  },
  {
   "cell_type": "markdown",
   "metadata": {},
   "source": [
    "- Indexation"
   ]
  },
  {
   "cell_type": "code",
   "execution_count": 37,
   "metadata": {},
   "outputs": [
    {
     "data": {
      "text/plain": [
       "5"
      ]
     },
     "execution_count": 37,
     "metadata": {},
     "output_type": "execute_result"
    }
   ],
   "source": [
    "montuple[2]"
   ]
  },
  {
   "cell_type": "markdown",
   "metadata": {},
   "source": [
    "Pour modifier : changer, ajouter ou supprimer des éléments on transforme en liste et on manipule et on retransforme en tuples"
   ]
  },
  {
   "cell_type": "code",
   "execution_count": 38,
   "metadata": {},
   "outputs": [
    {
     "data": {
      "text/plain": [
       "(2, 4, 0, 7)"
      ]
     },
     "execution_count": 38,
     "metadata": {},
     "output_type": "execute_result"
    }
   ],
   "source": [
    "maliste = list(montuple)\n",
    "maliste[2] = 0\n",
    "montuple = tuple(maliste)\n",
    "montuple"
   ]
  },
  {
   "cell_type": "markdown",
   "metadata": {},
   "source": [
    "#### d) Set"
   ]
  },
  {
   "cell_type": "code",
   "execution_count": 39,
   "metadata": {},
   "outputs": [
    {
     "data": {
      "text/plain": [
       "{1, 2, 3, 4, 5}"
      ]
     },
     "execution_count": 39,
     "metadata": {},
     "output_type": "execute_result"
    }
   ],
   "source": [
    "# Elements uniques - les éléments ne sont pas modifiables mais on peut ajouter ou supprimer des éléments\n",
    "myset = {3, 4, 4, 5, 2, 1, 1, 3}\n",
    "myset"
   ]
  },
  {
   "cell_type": "markdown",
   "metadata": {},
   "source": [
    "C'est non indexable et donc on peut pas modifier d'élément"
   ]
  },
  {
   "cell_type": "code",
   "execution_count": 40,
   "metadata": {},
   "outputs": [
    {
     "ename": "TypeError",
     "evalue": "'set' object is not subscriptable",
     "output_type": "error",
     "traceback": [
      "\u001b[1;31m---------------------------------------------------------------------------\u001b[0m",
      "\u001b[1;31mTypeError\u001b[0m                                 Traceback (most recent call last)",
      "\u001b[1;32mc:\\Users\\pc\\OneDrive\\Bureau\\Computer Vision with Python\\Seance 1\\Seance1.ipynb Cellule 70\u001b[0m in \u001b[0;36m<cell line: 1>\u001b[1;34m()\u001b[0m\n\u001b[1;32m----> <a href='vscode-notebook-cell:/c%3A/Users/pc/OneDrive/Bureau/Computer%20Vision%20with%20Python/Seance%201/Seance1.ipynb#Y112sZmlsZQ%3D%3D?line=0'>1</a>\u001b[0m myset[\u001b[39m0\u001b[39;49m]\n",
      "\u001b[1;31mTypeError\u001b[0m: 'set' object is not subscriptable"
     ]
    }
   ],
   "source": [
    "myset[0]"
   ]
  },
  {
   "cell_type": "markdown",
   "metadata": {},
   "source": [
    "- Ajout d'élément"
   ]
  },
  {
   "cell_type": "code",
   "execution_count": 41,
   "metadata": {},
   "outputs": [],
   "source": [
    "myset.add(8)"
   ]
  },
  {
   "cell_type": "code",
   "execution_count": 42,
   "metadata": {},
   "outputs": [
    {
     "data": {
      "text/plain": [
       "{1, 2, 3, 4, 5, 8}"
      ]
     },
     "execution_count": 42,
     "metadata": {},
     "output_type": "execute_result"
    }
   ],
   "source": [
    "myset"
   ]
  },
  {
   "cell_type": "markdown",
   "metadata": {},
   "source": [
    "Pour changer un élément c'est impossible (on peut accéder aux éléments avec un in dans une boucle for)"
   ]
  },
  {
   "cell_type": "markdown",
   "metadata": {},
   "source": [
    "- Suppression d'élément"
   ]
  },
  {
   "cell_type": "markdown",
   "metadata": {},
   "source": [
    "il y a : \n",
    "- .remove(item) : si l'item n'existe pas ca fera une erreur \n",
    "- .discard(item) : si l'item n'existe pas aucune erreur\n",
    "- .pop() : il supprime le dernier élément mis"
   ]
  },
  {
   "cell_type": "code",
   "execution_count": 43,
   "metadata": {},
   "outputs": [],
   "source": [
    "myset.remove(3)"
   ]
  },
  {
   "cell_type": "code",
   "execution_count": 44,
   "metadata": {},
   "outputs": [
    {
     "data": {
      "text/plain": [
       "{1, 2, 4, 5, 8}"
      ]
     },
     "execution_count": 44,
     "metadata": {},
     "output_type": "execute_result"
    }
   ],
   "source": [
    "myset"
   ]
  },
  {
   "cell_type": "code",
   "execution_count": 45,
   "metadata": {},
   "outputs": [
    {
     "data": {
      "text/plain": [
       "1"
      ]
     },
     "execution_count": 45,
     "metadata": {},
     "output_type": "execute_result"
    }
   ],
   "source": [
    "myset.pop()"
   ]
  },
  {
   "cell_type": "code",
   "execution_count": 46,
   "metadata": {},
   "outputs": [
    {
     "data": {
      "text/plain": [
       "{2, 4, 5, 8}"
      ]
     },
     "execution_count": 46,
     "metadata": {},
     "output_type": "execute_result"
    }
   ],
   "source": [
    "myset"
   ]
  },
  {
   "cell_type": "markdown",
   "metadata": {},
   "source": [
    "- Notions supplémentaires"
   ]
  },
  {
   "cell_type": "markdown",
   "metadata": {},
   "source": [
    "Il y a la fusion entre plusieurs set en utilisant les méthodes set1.union(set2) ou bien set1.update(set2) et le retourner dans un troisième set (faut pas oublier que c'est une structure de donnée immuable)"
   ]
  },
  {
   "cell_type": "code",
   "execution_count": 47,
   "metadata": {},
   "outputs": [
    {
     "data": {
      "text/plain": [
       "{1, 2, 3, 4, 5, 8, 10, 11}"
      ]
     },
     "execution_count": 47,
     "metadata": {},
     "output_type": "execute_result"
    }
   ],
   "source": [
    "myset2 = {3, 10, 11, 3, 2, 1, 1, 3}\n",
    "myset3 = myset.union(myset2)\n",
    "myset3"
   ]
  },
  {
   "cell_type": "markdown",
   "metadata": {},
   "source": [
    "### 8. Classes"
   ]
  },
  {
   "cell_type": "markdown",
   "metadata": {},
   "source": [
    "- Classe simple"
   ]
  },
  {
   "cell_type": "code",
   "execution_count": 48,
   "metadata": {},
   "outputs": [],
   "source": [
    "class person :\n",
    "    prenom = \"Mohamed\"\n",
    "    nom = \"Nennouche\"\n",
    "    action = \"Formation Python for Machine Learning\""
   ]
  },
  {
   "cell_type": "code",
   "execution_count": 49,
   "metadata": {},
   "outputs": [
    {
     "data": {
      "text/plain": [
       "'Mohamed'"
      ]
     },
     "execution_count": 49,
     "metadata": {},
     "output_type": "execute_result"
    }
   ],
   "source": [
    "personne1 = person()\n",
    "personne1.prenom"
   ]
  },
  {
   "cell_type": "markdown",
   "metadata": {},
   "source": [
    "- Classe complète"
   ]
  },
  {
   "cell_type": "code",
   "execution_count": 50,
   "metadata": {},
   "outputs": [],
   "source": [
    "class person:\n",
    "    def __init__(self,prenom,nom,age,fonction) : #constructeur\n",
    "        self.prenom = prenom\n",
    "        self.nom = nom\n",
    "        self.age = age\n",
    "        self.fonction = fonction\n",
    "    def afficher(self) :\n",
    "        print(\"Je m'appelle\",self.prenom,self.nom,\"j'ai\",self.age,\"ans et je suis\",self.fonction)"
   ]
  },
  {
   "cell_type": "code",
   "execution_count": 51,
   "metadata": {},
   "outputs": [
    {
     "data": {
      "text/plain": [
       "'Mohamed'"
      ]
     },
     "execution_count": 51,
     "metadata": {},
     "output_type": "execute_result"
    }
   ],
   "source": [
    "moi = person(\"Mohamed\", \"Nennouche\", \"23\", \"Data analyst\")\n",
    "moi.prenom"
   ]
  },
  {
   "cell_type": "code",
   "execution_count": 52,
   "metadata": {},
   "outputs": [
    {
     "name": "stdout",
     "output_type": "stream",
     "text": [
      "Je m'appelle Mohamed Nennouche j'ai 23 ans et je suis Data analyst\n"
     ]
    }
   ],
   "source": [
    "moi.afficher()"
   ]
  },
  {
   "cell_type": "markdown",
   "metadata": {},
   "source": [
    "## Librairies intéressantes"
   ]
  },
  {
   "cell_type": "markdown",
   "metadata": {},
   "source": [
    "Dans les projets de Machine Learning et de Deep Learning, essentiellement si il y a plusieurs fichiers à utiliser vous aurez besoin de quelques librairies standards que vous pouvez utiliser : \n",
    "- os\n",
    "- glob\n",
    "- shutil\n",
    "- (eventuellement) pathlib\n",
    "\n",
    "#### Exemple"
   ]
  },
  {
   "cell_type": "code",
   "execution_count": 58,
   "metadata": {},
   "outputs": [],
   "source": [
    "import os \n",
    "import glob \n",
    "import shutil\n",
    "from sklearn.model_selection import train_test_split"
   ]
  },
  {
   "cell_type": "code",
   "execution_count": 59,
   "metadata": {},
   "outputs": [],
   "source": [
    "def split_data(path_to_data, path_to_save_train, path_to_save_val, split_size=0.1) :\n",
    "    folders = os.listdir(path_to_data) # la liste des dossiers disponible au chemin donné\n",
    "    for folder in folders :\n",
    "        full_path = os.path.join(path_to_data, folder) # pour avoir le chemin complet en ajoutant le nom des dossiers\n",
    "        images_paths = glob.glob(os.path.join(full_path, '*.png')) # ca prend tous les fichiers à l'intérieur du dossier et les télécharge (le join il va a chaque fois ajouter le path du dossier et ajoutant le nom du fichier) ca nous retourne une liste d'images\n",
    "        x_train, x_val = train_test_split(images_paths, test_size=split_size) # split en train et validation\n",
    "\n",
    "        for x in x_train : \n",
    "            path_to_folder = os.path.join(path_to_save_train, folder) # pour recréer les même dossier que dans le dossier de base\n",
    "            if not os.path.isdir(path_to_folder) : \n",
    "                os.makedirs(path_to_folder) # si il n'existe pas il le crée\n",
    "            shutil.copy(x, path_to_folder)\n",
    "        \n",
    "        for x in x_val : \n",
    "            path_to_folder = os.path.join(path_to_save_val, folder) # pour recréer les même dossier que dans le dossier de base\n",
    "            if not os.path.isdir(path_to_folder) : \n",
    "                os.makedirs(path_to_folder) # si il n'existe pas il le crée\n",
    "            shutil.copy(x, path_to_folder)\n"
   ]
  },
  {
   "cell_type": "code",
   "execution_count": null,
   "metadata": {},
   "outputs": [],
   "source": [
    "path_to_data = './Dataset_exemple_session1/Train'\n",
    "path_to_save_train = './Dataset_exemple_session1/Train_Val/train'\n",
    "path_to_save_val = './Dataset_exemple_session1/Train_Val/val'\n",
    "split_data(path_to_data, path_to_save_train, path_to_save_val)"
   ]
  }
 ],
 "metadata": {
  "kernelspec": {
   "display_name": "Python 3.8.8 ('base')",
   "language": "python",
   "name": "python3"
  },
  "language_info": {
   "codemirror_mode": {
    "name": "ipython",
    "version": 3
   },
   "file_extension": ".py",
   "mimetype": "text/x-python",
   "name": "python",
   "nbconvert_exporter": "python",
   "pygments_lexer": "ipython3",
   "version": "3.8.13"
  },
  "orig_nbformat": 4,
  "vscode": {
   "interpreter": {
    "hash": "631af202ec7c40e141c49d63cac6c8cb664469fed6e4d5ddc6436b49edc60500"
   }
  }
 },
 "nbformat": 4,
 "nbformat_minor": 2
}
