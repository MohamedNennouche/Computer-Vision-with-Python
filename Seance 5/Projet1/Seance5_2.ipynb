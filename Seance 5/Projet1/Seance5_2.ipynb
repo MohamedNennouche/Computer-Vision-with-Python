{
 "cells": [
  {
   "attachments": {},
   "cell_type": "markdown",
   "metadata": {},
   "source": [
    "# Formation : Computer Vision with Python\n",
    "## Séance 5 : Image classification with CNN\n",
    "### Auteur : Nennouche Mohamed\n",
    "### Date : 28/02/2022\n",
    "### Contenu du notebook :\n",
    "On va au cours de cette séance introduire l'utilisation de Tensorflow dans les problème de Computer Vision sur des problématiques de classification utilisant des CNN. Donc on fera dans ce notebook :  \n",
    "- Introduction à Tensorflow \n",
    "- Comment créer un modèle avec Tensorflow\n",
    "    - Méthode séquentielle\n",
    "    - Méthode fonctionnelle\n",
    "    - Méthode avec les classes\n",
    "- Comment entrainer un modèle\n",
    "- Comment évaluer un modèle\n",
    "- Comment bien préparer les données pour les traiter avec Tensorflow\n",
    "\n",
    "Pour se faire on va utiliser une partie du dataset [GTSRB](https://www.kaggle.com/datasets/meowmeowmeowmeowmeow/gtsrb-german-traffic-sign) pour la classification de différents types de plaques de signalisation routière"
   ]
  },
  {
   "cell_type": "code",
   "execution_count": null,
   "metadata": {},
   "outputs": [],
   "source": [
    "import tensorflow as tf\n",
    "import matplotlib.pyplot as plt\n",
    "import numpy as np\n",
    "import seaborn as sns\n",
    "\n",
    "import utils\n",
    "\n",
    "from tensorflow.keras.layers import Conv2D, Input, Dense, MaxPool2D, BatchNormalization, GlobalAvgPool2D, Flatten\n",
    "from tensorflow.keras import Model\n",
    "from tensorflow.keras.preprocessing.image import ImageDataGenerator\n",
    "\n",
    "# for callback\n",
    "from tensorflow.keras.callbacks import ModelCheckpoint, EarlyStopping"
   ]
  },
  {
   "attachments": {},
   "cell_type": "markdown",
   "metadata": {},
   "source": [
    "## 1. Préparation des données"
   ]
  },
  {
   "attachments": {},
   "cell_type": "markdown",
   "metadata": {},
   "source": [
    "### a) Split entraînement - validation"
   ]
  },
  {
   "attachments": {},
   "cell_type": "markdown",
   "metadata": {},
   "source": [
    "On commence par créer une fonction qui permet de splitter les données d'entraînement en deux dossiers : train et val, le premier pour l'entrainement du modèle et le deuxième pour sa validation (durant l'entraînement)"
   ]
  },
  {
   "cell_type": "code",
   "execution_count": null,
   "metadata": {},
   "outputs": [],
   "source": [
    "path_to_data = './Train'\n",
    "path_to_save_train = './Train_val/train'\n",
    "path_to_save_val = './Train_val/val'\n",
    "utils.split_data(path_to_data, path_to_save_train, path_to_save_val)"
   ]
  },
  {
   "attachments": {},
   "cell_type": "markdown",
   "metadata": {},
   "source": [
    "### b) Préparation des données de test"
   ]
  },
  {
   "cell_type": "code",
   "execution_count": null,
   "metadata": {},
   "outputs": [],
   "source": [
    "path_to_images = './Test2'\n",
    "path_to_csv = './Test.csv'\n",
    "utils.order_test_set(path_to_images, path_to_csv)"
   ]
  }
 ],
 "metadata": {
  "kernelspec": {
   "display_name": "base",
   "language": "python",
   "name": "python3"
  },
  "language_info": {
   "name": "python",
   "version": "3.8.13"
  },
  "orig_nbformat": 4,
  "vscode": {
   "interpreter": {
    "hash": "631af202ec7c40e141c49d63cac6c8cb664469fed6e4d5ddc6436b49edc60500"
   }
  }
 },
 "nbformat": 4,
 "nbformat_minor": 2
}
